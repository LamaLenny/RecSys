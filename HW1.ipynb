{
  "nbformat": 4,
  "nbformat_minor": 0,
  "metadata": {
    "kernelspec": {
      "display_name": "Python 3",
      "language": "python",
      "name": "python3"
    },
    "language_info": {
      "codemirror_mode": {
        "name": "ipython",
        "version": 3
      },
      "file_extension": ".py",
      "mimetype": "text/x-python",
      "name": "python",
      "nbconvert_exporter": "python",
      "pygments_lexer": "ipython3",
      "version": "3.8.5"
    },
    "colab": {
      "name": "HW1.ipynb",
      "provenance": [],
      "collapsed_sections": [
        "29h4JA4-xv4O",
        "jjIR_HOmxv4t",
        "V9jKH5mzxv5K"
      ],
      "toc_visible": true
    }
  },
  "cells": [
    {
      "cell_type": "markdown",
      "metadata": {
        "id": "SM9eT26Qxv3F"
      },
      "source": [
        "### Матричные факторизации"
      ]
    },
    {
      "cell_type": "markdown",
      "metadata": {
        "id": "fV_DYyYAxv3G"
      },
      "source": [
        "В данной работе вам предстоит познакомиться с практической стороной матричных разложений.\n",
        "Работа поделена на 4 задания:\n",
        "1. Вам необходимо реализовать SVD разложения используя SGD на explicit данных\n",
        "2. Вам необходимо реализовать матричное разложения используя ALS на implicit данных\n",
        "3. Вам необходимо реализовать матричное разложения используя BPR(pair-wise loss) на implicit данных\n",
        "4. Вам необходимо реализовать матричное разложения используя WARP(list-wise loss) на implicit данных\n",
        "\n",
        "Мягкий дедлайн 28 Сентября (пишутся замечания, выставляется оценка, есть возможность исправить до жесткого дедлайна)\n",
        "\n",
        "Жесткий дедлайн 5 Октября (Итоговая проверка)"
      ]
    },
    {
      "cell_type": "code",
      "metadata": {
        "id": "QoOHrTi0x5rE",
        "outputId": "7bb1d26c-6b94-48e3-fc7e-580f2342fa32",
        "colab": {
          "base_uri": "https://localhost:8080/",
          "height": 238
        }
      },
      "source": [
        "! pip install implicit"
      ],
      "execution_count": 1,
      "outputs": [
        {
          "output_type": "stream",
          "text": [
            "Collecting implicit\n",
            "\u001b[?25l  Downloading https://files.pythonhosted.org/packages/bc/07/c0121884722d16e2c5beeb815f6b84b41cbf22e738e4075f1475be2791bc/implicit-0.4.4.tar.gz (1.1MB)\n",
            "\u001b[K     |████████████████████████████████| 1.1MB 2.6MB/s \n",
            "\u001b[?25hRequirement already satisfied: numpy in /usr/local/lib/python3.6/dist-packages (from implicit) (1.18.5)\n",
            "Requirement already satisfied: scipy>=0.16 in /usr/local/lib/python3.6/dist-packages (from implicit) (1.4.1)\n",
            "Requirement already satisfied: tqdm>=4.27 in /usr/local/lib/python3.6/dist-packages (from implicit) (4.41.1)\n",
            "Building wheels for collected packages: implicit\n",
            "  Building wheel for implicit (setup.py) ... \u001b[?25l\u001b[?25hdone\n",
            "  Created wheel for implicit: filename=implicit-0.4.4-cp36-cp36m-linux_x86_64.whl size=3419511 sha256=1c9c12f82c427b95b2f8836816c94183095f752f21be79decf6ad3d271de0e6c\n",
            "  Stored in directory: /root/.cache/pip/wheels/bf/d4/ec/fd4f622fcbefb7521f149905295b2c26adecb23af38aa28217\n",
            "Successfully built implicit\n",
            "Installing collected packages: implicit\n",
            "Successfully installed implicit-0.4.4\n"
          ],
          "name": "stdout"
        }
      ]
    },
    {
      "cell_type": "code",
      "metadata": {
        "id": "2DpGwrXoyaOc",
        "outputId": "34dc40b9-4bec-4a4b-84b2-e097ccfc184e",
        "colab": {
          "base_uri": "https://localhost:8080/",
          "height": 306
        }
      },
      "source": [
        "! pip install lightfm"
      ],
      "execution_count": 2,
      "outputs": [
        {
          "output_type": "stream",
          "text": [
            "Collecting lightfm\n",
            "\u001b[?25l  Downloading https://files.pythonhosted.org/packages/e9/8e/5485ac5a8616abe1c673d1e033e2f232b4319ab95424b42499fabff2257f/lightfm-1.15.tar.gz (302kB)\n",
            "\r\u001b[K     |█                               | 10kB 16.8MB/s eta 0:00:01\r\u001b[K     |██▏                             | 20kB 1.7MB/s eta 0:00:01\r\u001b[K     |███▎                            | 30kB 2.2MB/s eta 0:00:01\r\u001b[K     |████▍                           | 40kB 2.5MB/s eta 0:00:01\r\u001b[K     |█████▍                          | 51kB 1.9MB/s eta 0:00:01\r\u001b[K     |██████▌                         | 61kB 2.2MB/s eta 0:00:01\r\u001b[K     |███████▋                        | 71kB 2.4MB/s eta 0:00:01\r\u001b[K     |████████▊                       | 81kB 2.6MB/s eta 0:00:01\r\u001b[K     |█████████▊                      | 92kB 2.7MB/s eta 0:00:01\r\u001b[K     |██████████▉                     | 102kB 2.6MB/s eta 0:00:01\r\u001b[K     |████████████                    | 112kB 2.6MB/s eta 0:00:01\r\u001b[K     |█████████████                   | 122kB 2.6MB/s eta 0:00:01\r\u001b[K     |██████████████                  | 133kB 2.6MB/s eta 0:00:01\r\u001b[K     |███████████████▏                | 143kB 2.6MB/s eta 0:00:01\r\u001b[K     |████████████████▎               | 153kB 2.6MB/s eta 0:00:01\r\u001b[K     |█████████████████▍              | 163kB 2.6MB/s eta 0:00:01\r\u001b[K     |██████████████████▍             | 174kB 2.6MB/s eta 0:00:01\r\u001b[K     |███████████████████▌            | 184kB 2.6MB/s eta 0:00:01\r\u001b[K     |████████████████████▋           | 194kB 2.6MB/s eta 0:00:01\r\u001b[K     |█████████████████████▊          | 204kB 2.6MB/s eta 0:00:01\r\u001b[K     |██████████████████████▊         | 215kB 2.6MB/s eta 0:00:01\r\u001b[K     |███████████████████████▉        | 225kB 2.6MB/s eta 0:00:01\r\u001b[K     |█████████████████████████       | 235kB 2.6MB/s eta 0:00:01\r\u001b[K     |██████████████████████████      | 245kB 2.6MB/s eta 0:00:01\r\u001b[K     |███████████████████████████     | 256kB 2.6MB/s eta 0:00:01\r\u001b[K     |████████████████████████████▏   | 266kB 2.6MB/s eta 0:00:01\r\u001b[K     |█████████████████████████████▎  | 276kB 2.6MB/s eta 0:00:01\r\u001b[K     |██████████████████████████████▍ | 286kB 2.6MB/s eta 0:00:01\r\u001b[K     |███████████████████████████████▍| 296kB 2.6MB/s eta 0:00:01\r\u001b[K     |████████████████████████████████| 307kB 2.6MB/s \n",
            "\u001b[?25hRequirement already satisfied: numpy in /usr/local/lib/python3.6/dist-packages (from lightfm) (1.18.5)\n",
            "Requirement already satisfied: scipy>=0.17.0 in /usr/local/lib/python3.6/dist-packages (from lightfm) (1.4.1)\n",
            "Requirement already satisfied: requests in /usr/local/lib/python3.6/dist-packages (from lightfm) (2.23.0)\n",
            "Requirement already satisfied: urllib3!=1.25.0,!=1.25.1,<1.26,>=1.21.1 in /usr/local/lib/python3.6/dist-packages (from requests->lightfm) (1.24.3)\n",
            "Requirement already satisfied: chardet<4,>=3.0.2 in /usr/local/lib/python3.6/dist-packages (from requests->lightfm) (3.0.4)\n",
            "Requirement already satisfied: certifi>=2017.4.17 in /usr/local/lib/python3.6/dist-packages (from requests->lightfm) (2020.6.20)\n",
            "Requirement already satisfied: idna<3,>=2.5 in /usr/local/lib/python3.6/dist-packages (from requests->lightfm) (2.10)\n",
            "Building wheels for collected packages: lightfm\n",
            "  Building wheel for lightfm (setup.py) ... \u001b[?25l\u001b[?25hdone\n",
            "  Created wheel for lightfm: filename=lightfm-1.15-cp36-cp36m-linux_x86_64.whl size=707631 sha256=c60328b3a132485e8f1ad4fba16af78fa0cc1d9ca38e080d2d92aecfc1810c5c\n",
            "  Stored in directory: /root/.cache/pip/wheels/eb/bb/ac/188385a5da6627956be5d9663928483b36da576149ab5b8f79\n",
            "Successfully built lightfm\n",
            "Installing collected packages: lightfm\n",
            "Successfully installed lightfm-1.15\n"
          ],
          "name": "stdout"
        }
      ]
    },
    {
      "cell_type": "code",
      "metadata": {
        "id": "MJnkhLZmxv3H"
      },
      "source": [
        "import implicit\n",
        "import pandas as pd\n",
        "import numpy as np\n",
        "import scipy.sparse as sp\n",
        "from typing import Union\n",
        "from collections import Counter\n",
        "from sklearn.neighbors import KDTree\n",
        "import time\n",
        "from lightfm.datasets import fetch_movielens\n",
        "from itertools import product\n",
        "from scipy.special import expit"
      ],
      "execution_count": 3,
      "outputs": []
    },
    {
      "cell_type": "markdown",
      "metadata": {
        "id": "kQNuBZiWxv3M"
      },
      "source": [
        "В данной работе мы будем работать с explicit датасетом movieLens, в котором представленны пары user_id movie_id и rating выставленный пользователем фильму\n",
        "\n",
        "Скачать датасет можно по ссылке https://grouplens.org/datasets/movielens/1m/"
      ]
    },
    {
      "cell_type": "code",
      "metadata": {
        "id": "BKwPYs8Xxv3M"
      },
      "source": [
        "ratings = pd.read_csv('ratings.dat', delimiter='::', header=None, \n",
        "        names=['user_id', 'movie_id', 'rating', 'timestamp'], \n",
        "        usecols=['user_id', 'movie_id', 'rating'], engine='python')"
      ],
      "execution_count": 5,
      "outputs": []
    },
    {
      "cell_type": "code",
      "metadata": {
        "id": "Z6KlWQajxv3Q"
      },
      "source": [
        "movie_info = pd.read_csv('movies.dat', delimiter='::', header=None, \n",
        "        names=['movie_id', 'name', 'category'], engine='python')"
      ],
      "execution_count": 6,
      "outputs": []
    },
    {
      "cell_type": "code",
      "metadata": {
        "id": "_lxmOQctxv3T",
        "outputId": "af45a683-1e51-44aa-ab92-8a3dd592363f",
        "colab": {
          "base_uri": "https://localhost:8080/",
          "height": 419
        }
      },
      "source": [
        "movie_info"
      ],
      "execution_count": 7,
      "outputs": [
        {
          "output_type": "execute_result",
          "data": {
            "text/html": [
              "<div>\n",
              "<style scoped>\n",
              "    .dataframe tbody tr th:only-of-type {\n",
              "        vertical-align: middle;\n",
              "    }\n",
              "\n",
              "    .dataframe tbody tr th {\n",
              "        vertical-align: top;\n",
              "    }\n",
              "\n",
              "    .dataframe thead th {\n",
              "        text-align: right;\n",
              "    }\n",
              "</style>\n",
              "<table border=\"1\" class=\"dataframe\">\n",
              "  <thead>\n",
              "    <tr style=\"text-align: right;\">\n",
              "      <th></th>\n",
              "      <th>movie_id</th>\n",
              "      <th>name</th>\n",
              "      <th>category</th>\n",
              "    </tr>\n",
              "  </thead>\n",
              "  <tbody>\n",
              "    <tr>\n",
              "      <th>0</th>\n",
              "      <td>1</td>\n",
              "      <td>Toy Story (1995)</td>\n",
              "      <td>Animation|Children's|Comedy</td>\n",
              "    </tr>\n",
              "    <tr>\n",
              "      <th>1</th>\n",
              "      <td>2</td>\n",
              "      <td>Jumanji (1995)</td>\n",
              "      <td>Adventure|Children's|Fantasy</td>\n",
              "    </tr>\n",
              "    <tr>\n",
              "      <th>2</th>\n",
              "      <td>3</td>\n",
              "      <td>Grumpier Old Men (1995)</td>\n",
              "      <td>Comedy|Romance</td>\n",
              "    </tr>\n",
              "    <tr>\n",
              "      <th>3</th>\n",
              "      <td>4</td>\n",
              "      <td>Waiting to Exhale (1995)</td>\n",
              "      <td>Comedy|Drama</td>\n",
              "    </tr>\n",
              "    <tr>\n",
              "      <th>4</th>\n",
              "      <td>5</td>\n",
              "      <td>Father of the Bride Part II (1995)</td>\n",
              "      <td>Comedy</td>\n",
              "    </tr>\n",
              "    <tr>\n",
              "      <th>...</th>\n",
              "      <td>...</td>\n",
              "      <td>...</td>\n",
              "      <td>...</td>\n",
              "    </tr>\n",
              "    <tr>\n",
              "      <th>3878</th>\n",
              "      <td>3948</td>\n",
              "      <td>Meet the Parents (2000)</td>\n",
              "      <td>Comedy</td>\n",
              "    </tr>\n",
              "    <tr>\n",
              "      <th>3879</th>\n",
              "      <td>3949</td>\n",
              "      <td>Requiem for a Dream (2000)</td>\n",
              "      <td>Drama</td>\n",
              "    </tr>\n",
              "    <tr>\n",
              "      <th>3880</th>\n",
              "      <td>3950</td>\n",
              "      <td>Tigerland (2000)</td>\n",
              "      <td>Drama</td>\n",
              "    </tr>\n",
              "    <tr>\n",
              "      <th>3881</th>\n",
              "      <td>3951</td>\n",
              "      <td>Two Family House (2000)</td>\n",
              "      <td>Drama</td>\n",
              "    </tr>\n",
              "    <tr>\n",
              "      <th>3882</th>\n",
              "      <td>3952</td>\n",
              "      <td>Contender, The (2000)</td>\n",
              "      <td>Drama|Thriller</td>\n",
              "    </tr>\n",
              "  </tbody>\n",
              "</table>\n",
              "<p>3883 rows × 3 columns</p>\n",
              "</div>"
            ],
            "text/plain": [
              "      movie_id  ...                      category\n",
              "0            1  ...   Animation|Children's|Comedy\n",
              "1            2  ...  Adventure|Children's|Fantasy\n",
              "2            3  ...                Comedy|Romance\n",
              "3            4  ...                  Comedy|Drama\n",
              "4            5  ...                        Comedy\n",
              "...        ...  ...                           ...\n",
              "3878      3948  ...                        Comedy\n",
              "3879      3949  ...                         Drama\n",
              "3880      3950  ...                         Drama\n",
              "3881      3951  ...                         Drama\n",
              "3882      3952  ...                Drama|Thriller\n",
              "\n",
              "[3883 rows x 3 columns]"
            ]
          },
          "metadata": {
            "tags": []
          },
          "execution_count": 7
        }
      ]
    },
    {
      "cell_type": "markdown",
      "metadata": {
        "id": "3nT_LI1wxv3X"
      },
      "source": [
        "Explicit данные"
      ]
    },
    {
      "cell_type": "code",
      "metadata": {
        "id": "_utS7H-dxv3Y",
        "outputId": "764e35e8-2888-49a1-b9b3-23339978e379",
        "colab": {
          "base_uri": "https://localhost:8080/",
          "height": 359
        }
      },
      "source": [
        "ratings.head(10)"
      ],
      "execution_count": 8,
      "outputs": [
        {
          "output_type": "execute_result",
          "data": {
            "text/html": [
              "<div>\n",
              "<style scoped>\n",
              "    .dataframe tbody tr th:only-of-type {\n",
              "        vertical-align: middle;\n",
              "    }\n",
              "\n",
              "    .dataframe tbody tr th {\n",
              "        vertical-align: top;\n",
              "    }\n",
              "\n",
              "    .dataframe thead th {\n",
              "        text-align: right;\n",
              "    }\n",
              "</style>\n",
              "<table border=\"1\" class=\"dataframe\">\n",
              "  <thead>\n",
              "    <tr style=\"text-align: right;\">\n",
              "      <th></th>\n",
              "      <th>user_id</th>\n",
              "      <th>movie_id</th>\n",
              "      <th>rating</th>\n",
              "    </tr>\n",
              "  </thead>\n",
              "  <tbody>\n",
              "    <tr>\n",
              "      <th>0</th>\n",
              "      <td>1</td>\n",
              "      <td>1193</td>\n",
              "      <td>5</td>\n",
              "    </tr>\n",
              "    <tr>\n",
              "      <th>1</th>\n",
              "      <td>1</td>\n",
              "      <td>661</td>\n",
              "      <td>3</td>\n",
              "    </tr>\n",
              "    <tr>\n",
              "      <th>2</th>\n",
              "      <td>1</td>\n",
              "      <td>914</td>\n",
              "      <td>3</td>\n",
              "    </tr>\n",
              "    <tr>\n",
              "      <th>3</th>\n",
              "      <td>1</td>\n",
              "      <td>3408</td>\n",
              "      <td>4</td>\n",
              "    </tr>\n",
              "    <tr>\n",
              "      <th>4</th>\n",
              "      <td>1</td>\n",
              "      <td>2355</td>\n",
              "      <td>5</td>\n",
              "    </tr>\n",
              "    <tr>\n",
              "      <th>5</th>\n",
              "      <td>1</td>\n",
              "      <td>1197</td>\n",
              "      <td>3</td>\n",
              "    </tr>\n",
              "    <tr>\n",
              "      <th>6</th>\n",
              "      <td>1</td>\n",
              "      <td>1287</td>\n",
              "      <td>5</td>\n",
              "    </tr>\n",
              "    <tr>\n",
              "      <th>7</th>\n",
              "      <td>1</td>\n",
              "      <td>2804</td>\n",
              "      <td>5</td>\n",
              "    </tr>\n",
              "    <tr>\n",
              "      <th>8</th>\n",
              "      <td>1</td>\n",
              "      <td>594</td>\n",
              "      <td>4</td>\n",
              "    </tr>\n",
              "    <tr>\n",
              "      <th>9</th>\n",
              "      <td>1</td>\n",
              "      <td>919</td>\n",
              "      <td>4</td>\n",
              "    </tr>\n",
              "  </tbody>\n",
              "</table>\n",
              "</div>"
            ],
            "text/plain": [
              "   user_id  movie_id  rating\n",
              "0        1      1193       5\n",
              "1        1       661       3\n",
              "2        1       914       3\n",
              "3        1      3408       4\n",
              "4        1      2355       5\n",
              "5        1      1197       3\n",
              "6        1      1287       5\n",
              "7        1      2804       5\n",
              "8        1       594       4\n",
              "9        1       919       4"
            ]
          },
          "metadata": {
            "tags": []
          },
          "execution_count": 8
        }
      ]
    },
    {
      "cell_type": "markdown",
      "metadata": {
        "id": "vg0IhcDNxv3c"
      },
      "source": [
        "Для того, чтобы преобразовать текущий датасет в Implicit, давайте считать что позитивная оценка это оценка >=4"
      ]
    },
    {
      "cell_type": "code",
      "metadata": {
        "id": "vZfv0vqnxv3c"
      },
      "source": [
        "implicit_ratings = ratings.loc[(ratings['rating'] >= 4)]"
      ],
      "execution_count": 9,
      "outputs": []
    },
    {
      "cell_type": "code",
      "metadata": {
        "id": "tzVL1KgCxv3g",
        "outputId": "ef7d74d5-0b2b-4fc2-85ec-5531980bd667",
        "colab": {
          "base_uri": "https://localhost:8080/",
          "height": 359
        }
      },
      "source": [
        "implicit_ratings.head(10)"
      ],
      "execution_count": 10,
      "outputs": [
        {
          "output_type": "execute_result",
          "data": {
            "text/html": [
              "<div>\n",
              "<style scoped>\n",
              "    .dataframe tbody tr th:only-of-type {\n",
              "        vertical-align: middle;\n",
              "    }\n",
              "\n",
              "    .dataframe tbody tr th {\n",
              "        vertical-align: top;\n",
              "    }\n",
              "\n",
              "    .dataframe thead th {\n",
              "        text-align: right;\n",
              "    }\n",
              "</style>\n",
              "<table border=\"1\" class=\"dataframe\">\n",
              "  <thead>\n",
              "    <tr style=\"text-align: right;\">\n",
              "      <th></th>\n",
              "      <th>user_id</th>\n",
              "      <th>movie_id</th>\n",
              "      <th>rating</th>\n",
              "    </tr>\n",
              "  </thead>\n",
              "  <tbody>\n",
              "    <tr>\n",
              "      <th>0</th>\n",
              "      <td>1</td>\n",
              "      <td>1193</td>\n",
              "      <td>5</td>\n",
              "    </tr>\n",
              "    <tr>\n",
              "      <th>3</th>\n",
              "      <td>1</td>\n",
              "      <td>3408</td>\n",
              "      <td>4</td>\n",
              "    </tr>\n",
              "    <tr>\n",
              "      <th>4</th>\n",
              "      <td>1</td>\n",
              "      <td>2355</td>\n",
              "      <td>5</td>\n",
              "    </tr>\n",
              "    <tr>\n",
              "      <th>6</th>\n",
              "      <td>1</td>\n",
              "      <td>1287</td>\n",
              "      <td>5</td>\n",
              "    </tr>\n",
              "    <tr>\n",
              "      <th>7</th>\n",
              "      <td>1</td>\n",
              "      <td>2804</td>\n",
              "      <td>5</td>\n",
              "    </tr>\n",
              "    <tr>\n",
              "      <th>8</th>\n",
              "      <td>1</td>\n",
              "      <td>594</td>\n",
              "      <td>4</td>\n",
              "    </tr>\n",
              "    <tr>\n",
              "      <th>9</th>\n",
              "      <td>1</td>\n",
              "      <td>919</td>\n",
              "      <td>4</td>\n",
              "    </tr>\n",
              "    <tr>\n",
              "      <th>10</th>\n",
              "      <td>1</td>\n",
              "      <td>595</td>\n",
              "      <td>5</td>\n",
              "    </tr>\n",
              "    <tr>\n",
              "      <th>11</th>\n",
              "      <td>1</td>\n",
              "      <td>938</td>\n",
              "      <td>4</td>\n",
              "    </tr>\n",
              "    <tr>\n",
              "      <th>12</th>\n",
              "      <td>1</td>\n",
              "      <td>2398</td>\n",
              "      <td>4</td>\n",
              "    </tr>\n",
              "  </tbody>\n",
              "</table>\n",
              "</div>"
            ],
            "text/plain": [
              "    user_id  movie_id  rating\n",
              "0         1      1193       5\n",
              "3         1      3408       4\n",
              "4         1      2355       5\n",
              "6         1      1287       5\n",
              "7         1      2804       5\n",
              "8         1       594       4\n",
              "9         1       919       4\n",
              "10        1       595       5\n",
              "11        1       938       4\n",
              "12        1      2398       4"
            ]
          },
          "metadata": {
            "tags": []
          },
          "execution_count": 10
        }
      ]
    },
    {
      "cell_type": "markdown",
      "metadata": {
        "id": "b_Hz211wxv3k"
      },
      "source": [
        "Удобнее работать с sparse матричками, давайте преобразуем DataFrame в CSR матрицы"
      ]
    },
    {
      "cell_type": "code",
      "metadata": {
        "id": "I8_ptOW5xv3k"
      },
      "source": [
        "users = implicit_ratings[\"user_id\"]\n",
        "movies = implicit_ratings[\"movie_id\"]\n",
        "user_item = sp.coo_matrix((np.ones_like(users), (users, movies)))\n",
        "user_item_t_csr = user_item.T.tocsr()\n",
        "user_item_csr = user_item.tocsr()"
      ],
      "execution_count": 11,
      "outputs": []
    },
    {
      "cell_type": "code",
      "metadata": {
        "id": "t_itmAqIxv3n",
        "outputId": "4a304897-1b7d-4ebf-e99f-f18371253c38",
        "colab": {
          "base_uri": "https://localhost:8080/",
          "height": 136
        }
      },
      "source": [
        "print(user_item_csr.todense())"
      ],
      "execution_count": 12,
      "outputs": [
        {
          "output_type": "stream",
          "text": [
            "[[0 0 0 ... 0 0 0]\n",
            " [0 1 0 ... 0 0 0]\n",
            " [0 0 0 ... 0 0 0]\n",
            " ...\n",
            " [0 0 0 ... 0 0 0]\n",
            " [0 0 0 ... 0 0 0]\n",
            " [0 0 0 ... 0 0 0]]\n"
          ],
          "name": "stdout"
        }
      ]
    },
    {
      "cell_type": "markdown",
      "metadata": {
        "id": "tkK-nwK5xv3r"
      },
      "source": [
        "В качестве примера воспользуемся ALS разложением из библиотеки implicit\n",
        "\n",
        "Зададим размерность латентного пространства равным 64, это же определяет размер user/item эмбедингов"
      ]
    },
    {
      "cell_type": "code",
      "metadata": {
        "id": "OR7Tcw6Mxv3r",
        "outputId": "5270e131-6c61-4ad6-ee72-c1aa52d93fc2",
        "colab": {
          "base_uri": "https://localhost:8080/",
          "height": 34
        }
      },
      "source": [
        "model = implicit.als.AlternatingLeastSquares(factors=64, iterations=100, calculate_training_loss=True)"
      ],
      "execution_count": 13,
      "outputs": [
        {
          "output_type": "stream",
          "text": [
            "WARNING:root:OpenBLAS detected. Its highly recommend to set the environment variable 'export OPENBLAS_NUM_THREADS=1' to disable its internal multithreading\n"
          ],
          "name": "stderr"
        }
      ]
    },
    {
      "cell_type": "markdown",
      "metadata": {
        "id": "CcIW10Nlxv3v"
      },
      "source": [
        "В качестве loss здесь всеми любимый RMSE"
      ]
    },
    {
      "cell_type": "code",
      "metadata": {
        "id": "2uXSI-D3xv3w"
      },
      "source": [
        "model.fit(user_item_t_csr)"
      ],
      "execution_count": null,
      "outputs": []
    },
    {
      "cell_type": "markdown",
      "metadata": {
        "id": "Dpvukelixv30"
      },
      "source": [
        "Построим похожие фильмы по 1 movie_id = Истории игрушек"
      ]
    },
    {
      "cell_type": "code",
      "metadata": {
        "id": "WQsG-LW7xv30"
      },
      "source": [
        "movie_info.head(5)"
      ],
      "execution_count": null,
      "outputs": []
    },
    {
      "cell_type": "code",
      "metadata": {
        "id": "_mZkjIBWxv33"
      },
      "source": [
        "get_similars = lambda item_id, model : [movie_info[movie_info[\"movie_id\"] == x[0]][\"name\"].to_string() \n",
        "                                        for x in model.similar_items(item_id)]"
      ],
      "execution_count": null,
      "outputs": []
    },
    {
      "cell_type": "markdown",
      "metadata": {
        "id": "s2KkQobKxv36"
      },
      "source": [
        "Как мы видим, симилары действительно оказались симиларами.\n",
        "\n",
        "Качество симиларов часто является хорошим способом проверить качество алгоритмов.\n",
        "\n",
        "P.S. Если хочется поглубже разобраться в том как разные алгоритмы формируют разные латентные пространства, рекомендую загружать полученные вектора в tensorBoard и смотреть на сформированное пространство"
      ]
    },
    {
      "cell_type": "code",
      "metadata": {
        "id": "ACSm4Kgtxv37"
      },
      "source": [
        "get_similars(1, model)"
      ],
      "execution_count": null,
      "outputs": []
    },
    {
      "cell_type": "markdown",
      "metadata": {
        "id": "Wz6xlPMWxv3_"
      },
      "source": [
        "Давайте теперь построим рекомендации для юзеров\n",
        "\n",
        "Как мы видим юзеру нравится фантастика, значит и в рекомендациях ожидаем увидеть фантастику"
      ]
    },
    {
      "cell_type": "code",
      "metadata": {
        "id": "6QNX7eYmxv4B"
      },
      "source": [
        "get_user_history = lambda user_id, implicit_ratings : [movie_info[movie_info[\"movie_id\"] == x][\"name\"].to_string() \n",
        "                                            for x in implicit_ratings[implicit_ratings[\"user_id\"] == user_id][\"movie_id\"]]"
      ],
      "execution_count": null,
      "outputs": []
    },
    {
      "cell_type": "code",
      "metadata": {
        "id": "HrlJyghOxv4E"
      },
      "source": [
        "get_user_history(4, implicit_ratings)"
      ],
      "execution_count": null,
      "outputs": []
    },
    {
      "cell_type": "markdown",
      "metadata": {
        "id": "7MbHoEG2xv4I"
      },
      "source": [
        "Получилось! \n",
        "\n",
        "Мы действительно порекомендовали пользователю фантастику и боевики, более того встречаются продолжения тех фильмов, которые он высоко оценил"
      ]
    },
    {
      "cell_type": "code",
      "metadata": {
        "id": "jzhBk0wIxv4J"
      },
      "source": [
        "get_recommendations = lambda user_id, model : [movie_info[movie_info[\"movie_id\"] == x[0]][\"name\"].to_string() \n",
        "                                               for x in model.recommend(user_id, user_item_csr)]"
      ],
      "execution_count": null,
      "outputs": []
    },
    {
      "cell_type": "code",
      "metadata": {
        "id": "WhFtB0Fbxv4M"
      },
      "source": [
        "get_recommendations(4, model)"
      ],
      "execution_count": null,
      "outputs": []
    },
    {
      "cell_type": "markdown",
      "metadata": {
        "id": "-bUclVpuxv4O"
      },
      "source": [
        "Теперь ваша очередь реализовать самые популярные алгоритмы матричных разложений\n",
        "\n",
        "Что будет оцениваться:\n",
        "1. Корректность алгоритма\n",
        "2. Качество получившихся симиларов\n",
        "3. Качество итоговых рекомендаций для юзера"
      ]
    },
    {
      "cell_type": "markdown",
      "metadata": {
        "id": "29h4JA4-xv4O"
      },
      "source": [
        "# Задание 1. Не использую готовые решения, реализовать SVD разложение используя SGD на explicit данных"
      ]
    },
    {
      "cell_type": "markdown",
      "metadata": {
        "id": "g6o6E1j8xv4P"
      },
      "source": [
        "## Обработка explicit данных"
      ]
    },
    {
      "cell_type": "code",
      "metadata": {
        "id": "KaFDtfjTxv4Q",
        "outputId": "c7c60d6b-4d9b-4a2a-edc3-3473dbe2f6ce",
        "colab": {
          "base_uri": "https://localhost:8080/",
          "height": 359
        }
      },
      "source": [
        "ratings.head(10)"
      ],
      "execution_count": 15,
      "outputs": [
        {
          "output_type": "execute_result",
          "data": {
            "text/html": [
              "<div>\n",
              "<style scoped>\n",
              "    .dataframe tbody tr th:only-of-type {\n",
              "        vertical-align: middle;\n",
              "    }\n",
              "\n",
              "    .dataframe tbody tr th {\n",
              "        vertical-align: top;\n",
              "    }\n",
              "\n",
              "    .dataframe thead th {\n",
              "        text-align: right;\n",
              "    }\n",
              "</style>\n",
              "<table border=\"1\" class=\"dataframe\">\n",
              "  <thead>\n",
              "    <tr style=\"text-align: right;\">\n",
              "      <th></th>\n",
              "      <th>user_id</th>\n",
              "      <th>movie_id</th>\n",
              "      <th>rating</th>\n",
              "    </tr>\n",
              "  </thead>\n",
              "  <tbody>\n",
              "    <tr>\n",
              "      <th>0</th>\n",
              "      <td>1</td>\n",
              "      <td>1193</td>\n",
              "      <td>5</td>\n",
              "    </tr>\n",
              "    <tr>\n",
              "      <th>1</th>\n",
              "      <td>1</td>\n",
              "      <td>661</td>\n",
              "      <td>3</td>\n",
              "    </tr>\n",
              "    <tr>\n",
              "      <th>2</th>\n",
              "      <td>1</td>\n",
              "      <td>914</td>\n",
              "      <td>3</td>\n",
              "    </tr>\n",
              "    <tr>\n",
              "      <th>3</th>\n",
              "      <td>1</td>\n",
              "      <td>3408</td>\n",
              "      <td>4</td>\n",
              "    </tr>\n",
              "    <tr>\n",
              "      <th>4</th>\n",
              "      <td>1</td>\n",
              "      <td>2355</td>\n",
              "      <td>5</td>\n",
              "    </tr>\n",
              "    <tr>\n",
              "      <th>5</th>\n",
              "      <td>1</td>\n",
              "      <td>1197</td>\n",
              "      <td>3</td>\n",
              "    </tr>\n",
              "    <tr>\n",
              "      <th>6</th>\n",
              "      <td>1</td>\n",
              "      <td>1287</td>\n",
              "      <td>5</td>\n",
              "    </tr>\n",
              "    <tr>\n",
              "      <th>7</th>\n",
              "      <td>1</td>\n",
              "      <td>2804</td>\n",
              "      <td>5</td>\n",
              "    </tr>\n",
              "    <tr>\n",
              "      <th>8</th>\n",
              "      <td>1</td>\n",
              "      <td>594</td>\n",
              "      <td>4</td>\n",
              "    </tr>\n",
              "    <tr>\n",
              "      <th>9</th>\n",
              "      <td>1</td>\n",
              "      <td>919</td>\n",
              "      <td>4</td>\n",
              "    </tr>\n",
              "  </tbody>\n",
              "</table>\n",
              "</div>"
            ],
            "text/plain": [
              "   user_id  movie_id  rating\n",
              "0        1      1193       5\n",
              "1        1       661       3\n",
              "2        1       914       3\n",
              "3        1      3408       4\n",
              "4        1      2355       5\n",
              "5        1      1197       3\n",
              "6        1      1287       5\n",
              "7        1      2804       5\n",
              "8        1       594       4\n",
              "9        1       919       4"
            ]
          },
          "metadata": {
            "tags": []
          },
          "execution_count": 15
        }
      ]
    },
    {
      "cell_type": "code",
      "metadata": {
        "id": "9eHOJ2Hrxv4T",
        "outputId": "491bb0e9-6cf1-40f2-80e9-44171c26c2dd",
        "colab": {
          "base_uri": "https://localhost:8080/",
          "height": 170
        }
      },
      "source": [
        "ratings.rating.describe()"
      ],
      "execution_count": 16,
      "outputs": [
        {
          "output_type": "execute_result",
          "data": {
            "text/plain": [
              "count    1.000209e+06\n",
              "mean     3.581564e+00\n",
              "std      1.117102e+00\n",
              "min      1.000000e+00\n",
              "25%      3.000000e+00\n",
              "50%      4.000000e+00\n",
              "75%      4.000000e+00\n",
              "max      5.000000e+00\n",
              "Name: rating, dtype: float64"
            ]
          },
          "metadata": {
            "tags": []
          },
          "execution_count": 16
        }
      ]
    },
    {
      "cell_type": "code",
      "metadata": {
        "id": "gxRuRRosxv4W",
        "outputId": "75ea490d-8674-42d1-ccc4-f2afee0be808",
        "colab": {
          "base_uri": "https://localhost:8080/",
          "height": 34
        }
      },
      "source": [
        "Counter(ratings.rating)"
      ],
      "execution_count": 17,
      "outputs": [
        {
          "output_type": "execute_result",
          "data": {
            "text/plain": [
              "Counter({1: 56174, 2: 107557, 3: 261197, 4: 348971, 5: 226310})"
            ]
          },
          "metadata": {
            "tags": []
          },
          "execution_count": 17
        }
      ]
    },
    {
      "cell_type": "markdown",
      "metadata": {
        "id": "XW-9_iC4xv4a"
      },
      "source": [
        "В табличке есть все айдишники user-ов без пропусков (то есть, все числа от 1 до max --- айдишники)."
      ]
    },
    {
      "cell_type": "code",
      "metadata": {
        "id": "8ctI4L8Sxv4a",
        "outputId": "7e6b7998-3a2a-4789-9c69-2df992043e6a",
        "colab": {
          "base_uri": "https://localhost:8080/",
          "height": 34
        }
      },
      "source": [
        "all_users = np.unique(ratings[\"user_id\"])\n",
        "set(range(np.min(all_users), np.max(all_users) + 1)) - set(all_users)"
      ],
      "execution_count": 18,
      "outputs": [
        {
          "output_type": "execute_result",
          "data": {
            "text/plain": [
              "set()"
            ]
          },
          "metadata": {
            "tags": []
          },
          "execution_count": 18
        }
      ]
    },
    {
      "cell_type": "markdown",
      "metadata": {
        "id": "r9AV36-txv4e"
      },
      "source": [
        "А вот каких-то фильмов в таблице нет."
      ]
    },
    {
      "cell_type": "code",
      "metadata": {
        "id": "vbl_4sSjxv4e",
        "outputId": "9a90f86d-944a-484a-94e3-2483dd3ab38d",
        "colab": {
          "base_uri": "https://localhost:8080/",
          "height": 34
        }
      },
      "source": [
        "all_movies = np.unique(ratings[\"movie_id\"])\n",
        "len(set(range(np.min(all_movies), np.max(all_movies) + 1)) - set(all_movies))"
      ],
      "execution_count": 19,
      "outputs": [
        {
          "output_type": "execute_result",
          "data": {
            "text/plain": [
              "246"
            ]
          },
          "metadata": {
            "tags": []
          },
          "execution_count": 19
        }
      ]
    },
    {
      "cell_type": "markdown",
      "metadata": {
        "id": "MNMawGLHxv4h"
      },
      "source": [
        "При этом множества айдишников в фильмах в двух таблицах совпадают."
      ]
    },
    {
      "cell_type": "code",
      "metadata": {
        "id": "SW7HMW_Sxv4h",
        "outputId": "3bffe79a-d9c3-4ba9-d6f6-949cf8243426",
        "colab": {
          "base_uri": "https://localhost:8080/",
          "height": 34
        }
      },
      "source": [
        "len(set(np.unique(movie_info.movie_id)).intersection(set(all_movies))) == len(set(all_movies))"
      ],
      "execution_count": 20,
      "outputs": [
        {
          "output_type": "execute_result",
          "data": {
            "text/plain": [
              "True"
            ]
          },
          "metadata": {
            "tags": []
          },
          "execution_count": 20
        }
      ]
    },
    {
      "cell_type": "markdown",
      "metadata": {
        "id": "U428IOdmxv4k"
      },
      "source": [
        "Заведем внутренние айдишники для пользователей и фильмов."
      ]
    },
    {
      "cell_type": "code",
      "metadata": {
        "id": "D0D9TcAHxv4l"
      },
      "source": [
        "user2idx = dict(zip(all_users, range(len(all_users))))\n",
        "idx2user = dict(zip(range(len(all_users)), all_users))"
      ],
      "execution_count": 21,
      "outputs": []
    },
    {
      "cell_type": "code",
      "metadata": {
        "id": "cKuAvgqcxv4n"
      },
      "source": [
        "movie2idx = dict(zip(all_movies, range(len(all_movies))))\n",
        "idx2movie = dict(zip(range(len(all_movies)), all_movies))"
      ],
      "execution_count": 22,
      "outputs": []
    },
    {
      "cell_type": "markdown",
      "metadata": {
        "id": "vfO9wdF1xv4p"
      },
      "source": [
        "И заведем матрицу рейтинга во внутренних айдишниках."
      ]
    },
    {
      "cell_type": "code",
      "metadata": {
        "id": "Pc13ehfSxv4q"
      },
      "source": [
        "users_idxs = [user2idx[user] for user in ratings[\"user_id\"]]\n",
        "movies_idxs = [movie2idx[movie] for movie in ratings[\"movie_id\"]]\n",
        "user_item = sp.coo_matrix((ratings[\"rating\"], (users_idxs, movies_idxs)))\n",
        "user_item_t_csr = user_item.T.tocsr()\n",
        "user_item_csr = user_item.tocsr()"
      ],
      "execution_count": 23,
      "outputs": []
    },
    {
      "cell_type": "code",
      "metadata": {
        "id": "wKnNDXmwohCr",
        "outputId": "e144e2b9-b536-4571-9ab0-23f3e77fe4d6",
        "colab": {
          "base_uri": "https://localhost:8080/",
          "height": 51
        }
      },
      "source": [
        "user_item_csr"
      ],
      "execution_count": 24,
      "outputs": [
        {
          "output_type": "execute_result",
          "data": {
            "text/plain": [
              "<6040x3706 sparse matrix of type '<class 'numpy.longlong'>'\n",
              "\twith 1000209 stored elements in Compressed Sparse Row format>"
            ]
          },
          "metadata": {
            "tags": []
          },
          "execution_count": 24
        }
      ]
    },
    {
      "cell_type": "markdown",
      "metadata": {
        "id": "jjIR_HOmxv4t"
      },
      "source": [
        "## Реализация SVD"
      ]
    },
    {
      "cell_type": "code",
      "metadata": {
        "id": "0uk-whRcxv4u"
      },
      "source": [
        "class SVD():\n",
        "    \n",
        "    def __init__(self, \n",
        "                 n_users: int, \n",
        "                 n_items: int, \n",
        "                 latent_dim: int = 128, \n",
        "                 max_iter: int = 1e6, \n",
        "                 eps: float = 1., \n",
        "                 check_every = 100,\n",
        "                 check_rmse_on = 1000,\n",
        "                 lr: float = 1e-2, \n",
        "                 reg: dict = dict(zip(['u', 'v', 'b_u', 'b_v'], [1e-2, 1e-2, 1e-1, 1e-1])), \n",
        "                 seed: int = 73):\n",
        "        self.n_users = n_users\n",
        "        self.n_items = n_items\n",
        "        self.max_iter = max_iter\n",
        "        self.check_every = check_every\n",
        "        self.check_rmse_on = check_rmse_on\n",
        "        self.eps = eps\n",
        "        self.latent_dim = latent_dim\n",
        "        self.lr = lr\n",
        "        self.reg = reg\n",
        "        self.seed = seed\n",
        "        np.random.seed(self.seed)\n",
        "        self.U = np.random.uniform(low=0, high=1/np.sqrt(latent_dim), \n",
        "                              size=(n_users, latent_dim))\n",
        "        self.V = np.random.uniform(low=0, high=1/np.sqrt(latent_dim), \n",
        "                              size=(n_items, latent_dim))\n",
        "        self.mu = None\n",
        "        self.b_u = None\n",
        "        self.b_v = None\n",
        "        #self.b_u = np.zeros(shape=(n_users, ), dtype='float32')\n",
        "        #self.b_v = np.zeros(shape=(n_items, ), dtype='float32')\n",
        "        \n",
        "    \n",
        "    def fit(self, X: sp.csr.csr_matrix):\n",
        "        assert self.n_users, self.n_items == X.shape\n",
        "        \n",
        "        self.X = X\n",
        "        self.mu = np.mean(X.data)\n",
        "        self.b_u = np.array(X.mean(axis=1))\n",
        "        self.b_v = np.array(X.mean(axis=0)).reshape(-1, )\n",
        "\n",
        "        Q = 10000 + self.eps\n",
        "        cur_iter = 0\n",
        "        rand_indexes = np.random.randint(X.nnz, size=(self.max_iter, ))\n",
        "        coords = X.nonzero()\n",
        "        i_coords = coords[0][rand_indexes]\n",
        "        j_coords = coords[1][rand_indexes]\n",
        "        values = X.data[rand_indexes]\n",
        "        while cur_iter < self.max_iter and Q > self.eps:\n",
        "            \n",
        "            # Select random nonzero x_ij\n",
        "            i = i_coords[cur_iter]\n",
        "            j = j_coords[cur_iter]\n",
        "            x_ij = values[cur_iter]\n",
        "            \n",
        "            # Calculate gradients\n",
        "            error = np.dot(self.U[i, :], self.V[j, :]) + self.mu + self.b_u[i] + self.b_v[j] - x_ij\n",
        "            du_ij = error * self.V[j, :] + self.reg['u'] * self.U[i, :]\n",
        "            dv_ij = error * self.U[i, :] + self.reg['v'] * self.V[j, :]\n",
        "            dmu = error\n",
        "            db_u_i = error + self.reg['b_u'] * self.b_u[i]\n",
        "            db_v_j = error + self.reg['b_v'] * self.b_v[j]\n",
        "            \n",
        "            # Update\n",
        "            self.U[i, :] -= self.lr * du_ij\n",
        "            self.V[j, :] -= self.lr * dv_ij\n",
        "            self.mu -= self.lr * dmu\n",
        "            self.b_u[i] -= self.lr * db_u_i\n",
        "            self.b_v[j] -= self.lr * db_v_j\n",
        "             \n",
        "            \n",
        "            if not cur_iter % self.check_every:\n",
        "                # We calculate RMSE on self.check_rmse_on random user-item pair \n",
        "                # (with known rating score) \n",
        "                rand_indexes2check = np.random.randint(X.nnz, size=(self.check_rmse_on, ))\n",
        "                nonzero_inds = X.nonzero()\n",
        "                nonzero_i = nonzero_inds[0][rand_indexes2check]\n",
        "                nonzero_j = nonzero_inds[1][rand_indexes2check]\n",
        "                nonzero_values = X.data[rand_indexes2check]\n",
        "                Q = 0\n",
        "                for value, i, j in zip(list(nonzero_values), list(nonzero_i), list(nonzero_j)):\n",
        "                    Q += (self.U[i, :] @ self.V[j, :].T + self.mu + \n",
        "                         self.b_u[i] + self.b_v[j] - value) ** 2\n",
        "                Q = np.sqrt(Q / self.check_rmse_on)\n",
        "                print(f'iter: {cur_iter}, RMSE value: {Q}')\n",
        "            cur_iter += 1\n",
        "        self.U_KDTree = KDTree(self.U)\n",
        "        self.V_KDTree = KDTree(self.V)\n",
        "        \n",
        "    \n",
        "    def get_similars_items(self, item_ids: Union[int, list, np.ndarray], num_neighbors: int = 10):\n",
        "        if isinstance(item_ids, list) or isinstance(item_ids, np.ndarray):\n",
        "            return self.V_KDTree.query(self.V[item_ids, :], k=num_neighbors, return_distance=False)   \n",
        "        return self.V_KDTree.query([self.V[item_ids, :]], k=num_neighbors, return_distance=False)\n",
        "    \n",
        "    def get_similars_users(self, user_ids: Union[int, list, np.ndarray], num_neighbors: int = 10):\n",
        "        if isinstance(item_ids, list) or isinstance(item_ids, np.ndarray):\n",
        "            return self.U_KDTree.query(self.U[user_ids, :], k=num_neighbors, return_distance=False)   \n",
        "        return self.U_KDTree.query([self.U[item_ids, :]], k=num_neighbors, return_distance=False)\n",
        "    \n",
        "    def get_history(self, user_id: int):\n",
        "        return [it_id for it_id in self.X.getrow(user_id).nonzero()[1]]\n",
        "\n",
        "    def get_recommends(self, user_id: int, num_recs: int = 10):\n",
        "        rating = self.X.getrow(user_id)\n",
        "        \n",
        "        not_known_items = np.array(list(\n",
        "            set(range(self.X.shape[1])) - set(rating.nonzero()[1])))\n",
        "        score = (self.U[user_id, :] @ self.V[not_known_items, :].T + \n",
        "                 self.mu + self.b_u[user_id] + self.b_v[not_known_items])\n",
        "        order = np.argsort(score)\n",
        "        order = order[::-1]\n",
        "        return not_known_items[order[: num_recs]]"
      ],
      "execution_count": null,
      "outputs": []
    },
    {
      "cell_type": "markdown",
      "metadata": {
        "id": "9jGXzHSYxv40"
      },
      "source": [
        "## Применение SVD"
      ]
    },
    {
      "cell_type": "code",
      "metadata": {
        "id": "bbJmoMfg0ysW",
        "outputId": "fde4faaa-e123-4bfe-ec61-9c976f19ae19",
        "colab": {
          "base_uri": "https://localhost:8080/",
          "height": 941
        }
      },
      "source": [
        "%%time \n",
        "svd = SVD(n_users=user_item_csr.shape[0], n_items=user_item_csr.shape[1], \n",
        "          latent_dim=64, max_iter=int(5e6), check_every=int(1e5), check_rmse_on=2000, eps=0.)\n",
        "svd.fit(user_item_csr)\n"
      ],
      "execution_count": null,
      "outputs": [
        {
          "output_type": "stream",
          "text": [
            "iter: 0, RMSE value: [1.61153818]\n",
            "iter: 100000, RMSE value: [0.98351851]\n",
            "iter: 200000, RMSE value: [0.98396521]\n",
            "iter: 300000, RMSE value: [0.95446969]\n",
            "iter: 400000, RMSE value: [0.94177664]\n",
            "iter: 500000, RMSE value: [0.90513]\n",
            "iter: 600000, RMSE value: [0.92932844]\n",
            "iter: 700000, RMSE value: [0.92962365]\n",
            "iter: 800000, RMSE value: [0.9358738]\n",
            "iter: 900000, RMSE value: [0.92402081]\n",
            "iter: 1000000, RMSE value: [0.89610727]\n",
            "iter: 1100000, RMSE value: [0.91280357]\n",
            "iter: 1200000, RMSE value: [0.93196971]\n",
            "iter: 1300000, RMSE value: [0.93113327]\n",
            "iter: 1400000, RMSE value: [0.91578552]\n",
            "iter: 1500000, RMSE value: [0.91284055]\n",
            "iter: 1600000, RMSE value: [0.89900201]\n",
            "iter: 1700000, RMSE value: [0.92119904]\n",
            "iter: 1800000, RMSE value: [0.90358924]\n",
            "iter: 1900000, RMSE value: [0.89962986]\n",
            "iter: 2000000, RMSE value: [0.90119802]\n",
            "iter: 2100000, RMSE value: [0.90539967]\n",
            "iter: 2200000, RMSE value: [0.87164021]\n",
            "iter: 2300000, RMSE value: [0.88890274]\n",
            "iter: 2400000, RMSE value: [0.89633983]\n",
            "iter: 2500000, RMSE value: [0.89293789]\n",
            "iter: 2600000, RMSE value: [0.90259964]\n",
            "iter: 2700000, RMSE value: [0.90512882]\n",
            "iter: 2800000, RMSE value: [0.90845948]\n",
            "iter: 2900000, RMSE value: [0.91286309]\n",
            "iter: 3000000, RMSE value: [0.88940692]\n",
            "iter: 3100000, RMSE value: [0.88518689]\n",
            "iter: 3200000, RMSE value: [0.87105944]\n",
            "iter: 3300000, RMSE value: [0.89366131]\n",
            "iter: 3400000, RMSE value: [0.89472987]\n",
            "iter: 3500000, RMSE value: [0.88717833]\n",
            "iter: 3600000, RMSE value: [0.89331542]\n",
            "iter: 3700000, RMSE value: [0.86900566]\n",
            "iter: 3800000, RMSE value: [0.89761795]\n",
            "iter: 3900000, RMSE value: [0.89051332]\n",
            "iter: 4000000, RMSE value: [0.85430191]\n",
            "iter: 4100000, RMSE value: [0.86323279]\n",
            "iter: 4200000, RMSE value: [0.87075738]\n",
            "iter: 4300000, RMSE value: [0.88806184]\n",
            "iter: 4400000, RMSE value: [0.8738176]\n",
            "iter: 4500000, RMSE value: [0.8752157]\n",
            "iter: 4600000, RMSE value: [0.86221162]\n",
            "iter: 4700000, RMSE value: [0.85499269]\n",
            "iter: 4800000, RMSE value: [0.86359253]\n",
            "iter: 4900000, RMSE value: [0.86334599]\n",
            "CPU times: user 3min 30s, sys: 3.28 s, total: 3min 33s\n",
            "Wall time: 3min 27s\n"
          ],
          "name": "stdout"
        }
      ]
    },
    {
      "cell_type": "markdown",
      "metadata": {
        "id": "ex3Y3hYexv46"
      },
      "source": [
        "Посмотрим на фильмы, похожие на историю игрушек"
      ]
    },
    {
      "cell_type": "code",
      "metadata": {
        "id": "aQ4kj1mexv47"
      },
      "source": [
        "similar_movies = svd.get_similars_items(movie2idx[1])[0]\n",
        "similar_movies = [idx2movie[idx] for idx in similar_movies]"
      ],
      "execution_count": null,
      "outputs": []
    },
    {
      "cell_type": "code",
      "metadata": {
        "id": "koWz8CvqI_Vj",
        "outputId": "e4327205-cbdd-40e5-e241-995ffe378b91",
        "colab": {
          "base_uri": "https://localhost:8080/",
          "height": 377
        }
      },
      "source": [
        "movie_info.set_index('movie_id').loc[similar_movies, :]"
      ],
      "execution_count": null,
      "outputs": [
        {
          "output_type": "execute_result",
          "data": {
            "text/html": [
              "<div>\n",
              "<style scoped>\n",
              "    .dataframe tbody tr th:only-of-type {\n",
              "        vertical-align: middle;\n",
              "    }\n",
              "\n",
              "    .dataframe tbody tr th {\n",
              "        vertical-align: top;\n",
              "    }\n",
              "\n",
              "    .dataframe thead th {\n",
              "        text-align: right;\n",
              "    }\n",
              "</style>\n",
              "<table border=\"1\" class=\"dataframe\">\n",
              "  <thead>\n",
              "    <tr style=\"text-align: right;\">\n",
              "      <th></th>\n",
              "      <th>name</th>\n",
              "      <th>category</th>\n",
              "    </tr>\n",
              "    <tr>\n",
              "      <th>movie_id</th>\n",
              "      <th></th>\n",
              "      <th></th>\n",
              "    </tr>\n",
              "  </thead>\n",
              "  <tbody>\n",
              "    <tr>\n",
              "      <th>1</th>\n",
              "      <td>Toy Story (1995)</td>\n",
              "      <td>Animation|Children's|Comedy</td>\n",
              "    </tr>\n",
              "    <tr>\n",
              "      <th>3114</th>\n",
              "      <td>Toy Story 2 (1999)</td>\n",
              "      <td>Animation|Children's|Comedy</td>\n",
              "    </tr>\n",
              "    <tr>\n",
              "      <th>588</th>\n",
              "      <td>Aladdin (1992)</td>\n",
              "      <td>Animation|Children's|Comedy|Musical</td>\n",
              "    </tr>\n",
              "    <tr>\n",
              "      <th>1097</th>\n",
              "      <td>E.T. the Extra-Terrestrial (1982)</td>\n",
              "      <td>Children's|Drama|Fantasy|Sci-Fi</td>\n",
              "    </tr>\n",
              "    <tr>\n",
              "      <th>595</th>\n",
              "      <td>Beauty and the Beast (1991)</td>\n",
              "      <td>Animation|Children's|Musical</td>\n",
              "    </tr>\n",
              "    <tr>\n",
              "      <th>953</th>\n",
              "      <td>It's a Wonderful Life (1946)</td>\n",
              "      <td>Drama</td>\n",
              "    </tr>\n",
              "    <tr>\n",
              "      <th>2090</th>\n",
              "      <td>Rescuers, The (1977)</td>\n",
              "      <td>Animation|Children's</td>\n",
              "    </tr>\n",
              "    <tr>\n",
              "      <th>364</th>\n",
              "      <td>Lion King, The (1994)</td>\n",
              "      <td>Animation|Children's|Musical</td>\n",
              "    </tr>\n",
              "    <tr>\n",
              "      <th>2085</th>\n",
              "      <td>101 Dalmatians (1961)</td>\n",
              "      <td>Animation|Children's</td>\n",
              "    </tr>\n",
              "    <tr>\n",
              "      <th>1028</th>\n",
              "      <td>Mary Poppins (1964)</td>\n",
              "      <td>Children's|Comedy|Musical</td>\n",
              "    </tr>\n",
              "  </tbody>\n",
              "</table>\n",
              "</div>"
            ],
            "text/plain": [
              "                                       name                             category\n",
              "movie_id                                                                        \n",
              "1                          Toy Story (1995)          Animation|Children's|Comedy\n",
              "3114                     Toy Story 2 (1999)          Animation|Children's|Comedy\n",
              "588                          Aladdin (1992)  Animation|Children's|Comedy|Musical\n",
              "1097      E.T. the Extra-Terrestrial (1982)      Children's|Drama|Fantasy|Sci-Fi\n",
              "595             Beauty and the Beast (1991)         Animation|Children's|Musical\n",
              "953            It's a Wonderful Life (1946)                                Drama\n",
              "2090                   Rescuers, The (1977)                 Animation|Children's\n",
              "364                   Lion King, The (1994)         Animation|Children's|Musical\n",
              "2085                  101 Dalmatians (1961)                 Animation|Children's\n",
              "1028                    Mary Poppins (1964)            Children's|Comedy|Musical"
            ]
          },
          "metadata": {
            "tags": []
          },
          "execution_count": 25
        }
      ]
    },
    {
      "cell_type": "code",
      "metadata": {
        "id": "LJ7Pp4z0GwZ8",
        "outputId": "a267cf2e-5fb4-4242-d9f5-1b762e97e89e",
        "colab": {
          "base_uri": "https://localhost:8080/",
          "height": 707
        }
      },
      "source": [
        "hist = svd.get_history(user2idx[4])\n",
        "hist = [idx2movie[movie] for movie in hist]\n",
        "movie_info.set_index('movie_id').loc[hist, :]"
      ],
      "execution_count": null,
      "outputs": [
        {
          "output_type": "execute_result",
          "data": {
            "text/html": [
              "<div>\n",
              "<style scoped>\n",
              "    .dataframe tbody tr th:only-of-type {\n",
              "        vertical-align: middle;\n",
              "    }\n",
              "\n",
              "    .dataframe tbody tr th {\n",
              "        vertical-align: top;\n",
              "    }\n",
              "\n",
              "    .dataframe thead th {\n",
              "        text-align: right;\n",
              "    }\n",
              "</style>\n",
              "<table border=\"1\" class=\"dataframe\">\n",
              "  <thead>\n",
              "    <tr style=\"text-align: right;\">\n",
              "      <th></th>\n",
              "      <th>name</th>\n",
              "      <th>category</th>\n",
              "    </tr>\n",
              "    <tr>\n",
              "      <th>movie_id</th>\n",
              "      <th></th>\n",
              "      <th></th>\n",
              "    </tr>\n",
              "  </thead>\n",
              "  <tbody>\n",
              "    <tr>\n",
              "      <th>260</th>\n",
              "      <td>Star Wars: Episode IV - A New Hope (1977)</td>\n",
              "      <td>Action|Adventure|Fantasy|Sci-Fi</td>\n",
              "    </tr>\n",
              "    <tr>\n",
              "      <th>480</th>\n",
              "      <td>Jurassic Park (1993)</td>\n",
              "      <td>Action|Adventure|Sci-Fi</td>\n",
              "    </tr>\n",
              "    <tr>\n",
              "      <th>1036</th>\n",
              "      <td>Die Hard (1988)</td>\n",
              "      <td>Action|Thriller</td>\n",
              "    </tr>\n",
              "    <tr>\n",
              "      <th>1097</th>\n",
              "      <td>E.T. the Extra-Terrestrial (1982)</td>\n",
              "      <td>Children's|Drama|Fantasy|Sci-Fi</td>\n",
              "    </tr>\n",
              "    <tr>\n",
              "      <th>1196</th>\n",
              "      <td>Star Wars: Episode V - The Empire Strikes Back...</td>\n",
              "      <td>Action|Adventure|Drama|Sci-Fi|War</td>\n",
              "    </tr>\n",
              "    <tr>\n",
              "      <th>1198</th>\n",
              "      <td>Raiders of the Lost Ark (1981)</td>\n",
              "      <td>Action|Adventure</td>\n",
              "    </tr>\n",
              "    <tr>\n",
              "      <th>1201</th>\n",
              "      <td>Good, The Bad and The Ugly, The (1966)</td>\n",
              "      <td>Action|Western</td>\n",
              "    </tr>\n",
              "    <tr>\n",
              "      <th>1210</th>\n",
              "      <td>Star Wars: Episode VI - Return of the Jedi (1983)</td>\n",
              "      <td>Action|Adventure|Romance|Sci-Fi|War</td>\n",
              "    </tr>\n",
              "    <tr>\n",
              "      <th>1214</th>\n",
              "      <td>Alien (1979)</td>\n",
              "      <td>Action|Horror|Sci-Fi|Thriller</td>\n",
              "    </tr>\n",
              "    <tr>\n",
              "      <th>1240</th>\n",
              "      <td>Terminator, The (1984)</td>\n",
              "      <td>Action|Sci-Fi|Thriller</td>\n",
              "    </tr>\n",
              "    <tr>\n",
              "      <th>1387</th>\n",
              "      <td>Jaws (1975)</td>\n",
              "      <td>Action|Horror</td>\n",
              "    </tr>\n",
              "    <tr>\n",
              "      <th>1954</th>\n",
              "      <td>Rocky (1976)</td>\n",
              "      <td>Action|Drama</td>\n",
              "    </tr>\n",
              "    <tr>\n",
              "      <th>2028</th>\n",
              "      <td>Saving Private Ryan (1998)</td>\n",
              "      <td>Action|Drama|War</td>\n",
              "    </tr>\n",
              "    <tr>\n",
              "      <th>2366</th>\n",
              "      <td>King Kong (1933)</td>\n",
              "      <td>Action|Adventure|Horror</td>\n",
              "    </tr>\n",
              "    <tr>\n",
              "      <th>2692</th>\n",
              "      <td>Run Lola Run (Lola rennt) (1998)</td>\n",
              "      <td>Action|Crime|Romance</td>\n",
              "    </tr>\n",
              "    <tr>\n",
              "      <th>2947</th>\n",
              "      <td>Goldfinger (1964)</td>\n",
              "      <td>Action</td>\n",
              "    </tr>\n",
              "    <tr>\n",
              "      <th>2951</th>\n",
              "      <td>Fistful of Dollars, A (1964)</td>\n",
              "      <td>Action|Western</td>\n",
              "    </tr>\n",
              "    <tr>\n",
              "      <th>3418</th>\n",
              "      <td>Thelma &amp; Louise (1991)</td>\n",
              "      <td>Action|Drama</td>\n",
              "    </tr>\n",
              "    <tr>\n",
              "      <th>3468</th>\n",
              "      <td>Hustler, The (1961)</td>\n",
              "      <td>Drama</td>\n",
              "    </tr>\n",
              "    <tr>\n",
              "      <th>3527</th>\n",
              "      <td>Predator (1987)</td>\n",
              "      <td>Action|Sci-Fi|Thriller</td>\n",
              "    </tr>\n",
              "    <tr>\n",
              "      <th>3702</th>\n",
              "      <td>Mad Max (1979)</td>\n",
              "      <td>Action|Sci-Fi</td>\n",
              "    </tr>\n",
              "  </tbody>\n",
              "</table>\n",
              "</div>"
            ],
            "text/plain": [
              "                                                       name                             category\n",
              "movie_id                                                                                        \n",
              "260               Star Wars: Episode IV - A New Hope (1977)      Action|Adventure|Fantasy|Sci-Fi\n",
              "480                                    Jurassic Park (1993)              Action|Adventure|Sci-Fi\n",
              "1036                                        Die Hard (1988)                      Action|Thriller\n",
              "1097                      E.T. the Extra-Terrestrial (1982)      Children's|Drama|Fantasy|Sci-Fi\n",
              "1196      Star Wars: Episode V - The Empire Strikes Back...    Action|Adventure|Drama|Sci-Fi|War\n",
              "1198                         Raiders of the Lost Ark (1981)                     Action|Adventure\n",
              "1201                 Good, The Bad and The Ugly, The (1966)                       Action|Western\n",
              "1210      Star Wars: Episode VI - Return of the Jedi (1983)  Action|Adventure|Romance|Sci-Fi|War\n",
              "1214                                           Alien (1979)        Action|Horror|Sci-Fi|Thriller\n",
              "1240                                 Terminator, The (1984)               Action|Sci-Fi|Thriller\n",
              "1387                                            Jaws (1975)                        Action|Horror\n",
              "1954                                           Rocky (1976)                         Action|Drama\n",
              "2028                             Saving Private Ryan (1998)                     Action|Drama|War\n",
              "2366                                       King Kong (1933)              Action|Adventure|Horror\n",
              "2692                       Run Lola Run (Lola rennt) (1998)                 Action|Crime|Romance\n",
              "2947                                      Goldfinger (1964)                               Action\n",
              "2951                           Fistful of Dollars, A (1964)                       Action|Western\n",
              "3418                                 Thelma & Louise (1991)                         Action|Drama\n",
              "3468                                    Hustler, The (1961)                                Drama\n",
              "3527                                        Predator (1987)               Action|Sci-Fi|Thriller\n",
              "3702                                         Mad Max (1979)                        Action|Sci-Fi"
            ]
          },
          "metadata": {
            "tags": []
          },
          "execution_count": 26
        }
      ]
    },
    {
      "cell_type": "code",
      "metadata": {
        "id": "9x5hWHP2Hba8",
        "outputId": "95013354-2830-4b1e-a6c8-c98775eddd1a",
        "colab": {
          "base_uri": "https://localhost:8080/",
          "height": 377
        }
      },
      "source": [
        "recs = svd.get_recommends(user2idx[4], 10)\n",
        "recs = [idx2movie[rec] for rec in recs]\n",
        "movie_info.set_index('movie_id').loc[recs, :]"
      ],
      "execution_count": null,
      "outputs": [
        {
          "output_type": "execute_result",
          "data": {
            "text/html": [
              "<div>\n",
              "<style scoped>\n",
              "    .dataframe tbody tr th:only-of-type {\n",
              "        vertical-align: middle;\n",
              "    }\n",
              "\n",
              "    .dataframe tbody tr th {\n",
              "        vertical-align: top;\n",
              "    }\n",
              "\n",
              "    .dataframe thead th {\n",
              "        text-align: right;\n",
              "    }\n",
              "</style>\n",
              "<table border=\"1\" class=\"dataframe\">\n",
              "  <thead>\n",
              "    <tr style=\"text-align: right;\">\n",
              "      <th></th>\n",
              "      <th>name</th>\n",
              "      <th>category</th>\n",
              "    </tr>\n",
              "    <tr>\n",
              "      <th>movie_id</th>\n",
              "      <th></th>\n",
              "      <th></th>\n",
              "    </tr>\n",
              "  </thead>\n",
              "  <tbody>\n",
              "    <tr>\n",
              "      <th>2905</th>\n",
              "      <td>Sanjuro (1962)</td>\n",
              "      <td>Action|Adventure</td>\n",
              "    </tr>\n",
              "    <tr>\n",
              "      <th>858</th>\n",
              "      <td>Godfather, The (1972)</td>\n",
              "      <td>Action|Crime|Drama</td>\n",
              "    </tr>\n",
              "    <tr>\n",
              "      <th>3022</th>\n",
              "      <td>General, The (1927)</td>\n",
              "      <td>Comedy</td>\n",
              "    </tr>\n",
              "    <tr>\n",
              "      <th>527</th>\n",
              "      <td>Schindler's List (1993)</td>\n",
              "      <td>Drama|War</td>\n",
              "    </tr>\n",
              "    <tr>\n",
              "      <th>1148</th>\n",
              "      <td>Wrong Trousers, The (1993)</td>\n",
              "      <td>Animation|Comedy</td>\n",
              "    </tr>\n",
              "    <tr>\n",
              "      <th>912</th>\n",
              "      <td>Casablanca (1942)</td>\n",
              "      <td>Drama|Romance|War</td>\n",
              "    </tr>\n",
              "    <tr>\n",
              "      <th>1178</th>\n",
              "      <td>Paths of Glory (1957)</td>\n",
              "      <td>Drama|War</td>\n",
              "    </tr>\n",
              "    <tr>\n",
              "      <th>913</th>\n",
              "      <td>Maltese Falcon, The (1941)</td>\n",
              "      <td>Film-Noir|Mystery</td>\n",
              "    </tr>\n",
              "    <tr>\n",
              "      <th>745</th>\n",
              "      <td>Close Shave, A (1995)</td>\n",
              "      <td>Animation|Comedy|Thriller</td>\n",
              "    </tr>\n",
              "    <tr>\n",
              "      <th>318</th>\n",
              "      <td>Shawshank Redemption, The (1994)</td>\n",
              "      <td>Drama</td>\n",
              "    </tr>\n",
              "  </tbody>\n",
              "</table>\n",
              "</div>"
            ],
            "text/plain": [
              "                                      name                   category\n",
              "movie_id                                                             \n",
              "2905                        Sanjuro (1962)           Action|Adventure\n",
              "858                  Godfather, The (1972)         Action|Crime|Drama\n",
              "3022                   General, The (1927)                     Comedy\n",
              "527                Schindler's List (1993)                  Drama|War\n",
              "1148            Wrong Trousers, The (1993)           Animation|Comedy\n",
              "912                      Casablanca (1942)          Drama|Romance|War\n",
              "1178                 Paths of Glory (1957)                  Drama|War\n",
              "913             Maltese Falcon, The (1941)          Film-Noir|Mystery\n",
              "745                  Close Shave, A (1995)  Animation|Comedy|Thriller\n",
              "318       Shawshank Redemption, The (1994)                      Drama"
            ]
          },
          "metadata": {
            "tags": []
          },
          "execution_count": 27
        }
      ]
    },
    {
      "cell_type": "markdown",
      "metadata": {
        "id": "V9jKH5mzxv5K"
      },
      "source": [
        "# Задание 2. Не использую готовые решения, реализовать матричное разложение используя ALS на implicit данных"
      ]
    },
    {
      "cell_type": "markdown",
      "metadata": {
        "id": "gGtf6tubL8eJ"
      },
      "source": [
        "Реализация статьи [Collaborative Filtering for Implicit Feedback Datasets](http://yifanhu.net/PUB/cf.pdf)"
      ]
    },
    {
      "cell_type": "code",
      "metadata": {
        "id": "asX7fWBbxv5L"
      },
      "source": [
        "class ALS:\n",
        "    def __init__(self, \n",
        "                 n_users: int, \n",
        "                 n_items: int, \n",
        "                 latent_dim: int = 128, \n",
        "                 num_epochs: int = 1e6, \n",
        "                 eps: float = 0., \n",
        "                 check_rmse_on = 1000,\n",
        "                 alpha: int = 40,\n",
        "                 lr: float = 1e-2, \n",
        "                 reg: float = 1e-2,\n",
        "                 seed: int = 73):\n",
        "        \n",
        "        self.n_users = n_users\n",
        "        self.n_items = n_items\n",
        "        self.latent_dim = latent_dim\n",
        "        self.eps = eps\n",
        "        self.check_rmse_on = check_rmse_on\n",
        "        self.num_epochs = num_epochs\n",
        "        self.reg = reg\n",
        "        self.seed = seed\n",
        "        self.alpha = alpha\n",
        "        np.random.seed(seed)\n",
        "\n",
        "        self.U = np.random.uniform(low=0, high=1/np.sqrt(latent_dim), \n",
        "                              size=(n_users, latent_dim))\n",
        "        self.V = np.random.uniform(low=0, high=1/np.sqrt(latent_dim), \n",
        "                              size=(n_items, latent_dim))\n",
        "    \n",
        "    def check_rmse(self):\n",
        "        #check RMSE\n",
        "        # We calculate RMSE on self.check_rmse_on random user-item pair \n",
        "        # (with known rating score) \n",
        "        rand_indexes2check = np.random.randint(self.X.nnz, \n",
        "                                               size=(self.check_rmse_on, ))\n",
        "        nonzero_inds = self.X.nonzero()\n",
        "        nonzero_i = nonzero_inds[0][rand_indexes2check]\n",
        "        nonzero_j = nonzero_inds[1][rand_indexes2check]\n",
        "        nonzero_values = self.X.data[rand_indexes2check]\n",
        "        Q = 0\n",
        "        for value, i, j in zip(list(nonzero_values), list(nonzero_i), list(nonzero_j)):\n",
        "            Q += (self.U[i, :] @ self.V[j, :].T - value) ** 2\n",
        "        Q = np.sqrt(Q / self.check_rmse_on)\n",
        "        print(f'RMSE value: {Q}')\n",
        "        return Q\n",
        "    \n",
        "    def fit(self, X: sp.csr.csr_matrix):\n",
        "        assert self.n_users, self.n_items == X.shape\n",
        "\n",
        "        self.X = X\n",
        "        Xt = X.transpose()\n",
        "        cur_epoch = 0               \n",
        "        Q = self.check_rmse()\n",
        "            \n",
        "        while cur_epoch < self.num_epochs and Q > self.eps:\n",
        "            print(f'Epoch: {cur_epoch + 1}')\n",
        "\n",
        "            # loop on users\n",
        "            VtV = self.V.T @ self.V\n",
        "            for i in range(self.n_users):\n",
        "                if not i % 1000:\n",
        "                    print(f'Users: [{i}/{self.n_users}]')\n",
        "                r_u = X.getrow(i).toarray()[0]\n",
        "                C_u = sp.diags(1 + self.alpha * r_u, offsets=0)           \n",
        "                p_u = r_u > 0\n",
        "                VtC_uV = (VtV + self.V.T.dot(sp.csr_matrix.dot(C_u - sp.identity(self.n_items), self.V)))\n",
        "                inv = np.linalg.inv(VtC_uV + self.reg * sp.identity(VtC_uV.shape[0]))\n",
        "                self.U[i, :] = inv @ self.V.T @ C_u @ p_u\n",
        "            print('^_^')\n",
        "            \n",
        "            #loop on items\n",
        "            UtU = self.U.T @ self.U\n",
        "            for j in range(self.n_items):\n",
        "                if not j % 1000:\n",
        "                    print(f'Items: [{j}/{self.n_items}]')\n",
        "                r_v = Xt.getrow(j).toarray()[0]\n",
        "                C_v = sp.diags(1 + self.alpha * r_v, offsets=0)\n",
        "                p_v = r_v > 0\n",
        "                UtC_vU = (UtU + self.U.T.dot(sp.csr_matrix.dot(C_v - sp.identity(self.n_users), self.U)))\n",
        "                inv = np.linalg.inv(UtC_vU + self.reg * sp.identity(UtC_vU.shape[0]))\n",
        "                self.V[j, :] = inv @ self.U.T @ C_v @ p_v\n",
        "            \n",
        "            cur_epoch += 1\n",
        "            Q = self.check_rmse()\n",
        "        self.U_KDTree = KDTree(self.U)\n",
        "        self.V_KDTree = KDTree(self.V)\n",
        "        \n",
        "    def get_similars_items(self, item_ids: Union[int, list, np.ndarray], num_neighbors: int = 10):\n",
        "        if isinstance(item_ids, list) or isinstance(item_ids, np.ndarray):\n",
        "            return self.V_KDTree.query(self.V[item_ids, :], k=num_neighbors, return_distance=False)   \n",
        "        return self.V_KDTree.query([self.V[item_ids, :]], k=num_neighbors, return_distance=False)\n",
        "    \n",
        "    def get_similars_users(self, user_ids: Union[int, list, np.ndarray], num_neighbors: int = 10):\n",
        "        if isinstance(item_ids, list) or isinstance(item_ids, np.ndarray):\n",
        "            return self.U_KDTree.query(self.U[user_ids, :], k=num_neighbors, return_distance=False)   \n",
        "        return self.U_KDTree.query([self.U[item_ids, :]], k=num_neighbors, return_distance=False)\n",
        "    \n",
        "    def get_history(self, user_id: int):\n",
        "        return [it_id for it_id in self.X.getrow(user_id).nonzero()[1]]\n",
        "\n",
        "    def get_recommends(self, user_id: int, num_recs: int = 10):\n",
        "        rating = self.X.getrow(user_id)\n",
        "        \n",
        "        not_known_items = np.array(list(\n",
        "            set(range(self.X.shape[1])) - set(rating.nonzero()[1])))\n",
        "        score = self.U[user_id, :] @ self.V[not_known_items, :].T\n",
        "        order = np.argsort(score)\n",
        "        order = order[::-1]\n",
        "        return not_known_items[order[: num_recs]]\n",
        "\n",
        "\n"
      ],
      "execution_count": null,
      "outputs": []
    },
    {
      "cell_type": "markdown",
      "metadata": {
        "id": "0QiLMX0-oYdp"
      },
      "source": [
        "## Подготовка данных"
      ]
    },
    {
      "cell_type": "code",
      "metadata": {
        "id": "D9CdATHwnz2y"
      },
      "source": [
        "users_idxs = [user2idx[user] for user in ratings[\"user_id\"]]\n",
        "movies_idxs = [movie2idx[movie] for movie in ratings[\"movie_id\"]]\n",
        "user_item = sp.coo_matrix((np.ones_like(users_idxs), (users_idxs, movies_idxs)))\n",
        "user_item_t_csr = user_item.T.tocsr()\n",
        "user_item_csr = user_item.tocsr()"
      ],
      "execution_count": 26,
      "outputs": []
    },
    {
      "cell_type": "markdown",
      "metadata": {
        "id": "-iW-oKMkofNK"
      },
      "source": [
        "## Применение ALS"
      ]
    },
    {
      "cell_type": "code",
      "metadata": {
        "id": "bKDQczXFtM6b"
      },
      "source": [
        "als = ALS(n_users=user_item.shape[0], n_items=user_item.shape[1], num_epochs=20, eps=1e-1, latent_dim=64, alpha=20)"
      ],
      "execution_count": null,
      "outputs": []
    },
    {
      "cell_type": "code",
      "metadata": {
        "id": "XJBRoIiYtkDz",
        "outputId": "876680b9-b4fa-4000-f1cb-f384bb688613",
        "colab": {
          "base_uri": "https://localhost:8080/",
          "height": 1000
        }
      },
      "source": [
        "als.fit(user_item_csr)"
      ],
      "execution_count": null,
      "outputs": [
        {
          "output_type": "stream",
          "text": [
            "RMSE value: 0.750188829785412\n",
            "Epoch: 1\n",
            "Users: [0/6040]\n",
            "Users: [1000/6040]\n",
            "Users: [2000/6040]\n",
            "Users: [3000/6040]\n",
            "Users: [4000/6040]\n",
            "Users: [5000/6040]\n",
            "Users: [6000/6040]\n",
            "^_^\n",
            "Items: [0/3706]\n",
            "Items: [1000/3706]\n",
            "Items: [2000/3706]\n",
            "Items: [3000/3706]\n",
            "RMSE value: 0.28070557195825874\n",
            "Epoch: 2\n",
            "Users: [0/6040]\n",
            "Users: [1000/6040]\n",
            "Users: [2000/6040]\n",
            "Users: [3000/6040]\n",
            "Users: [4000/6040]\n",
            "Users: [5000/6040]\n",
            "Users: [6000/6040]\n",
            "^_^\n",
            "Items: [0/3706]\n",
            "Items: [1000/3706]\n",
            "Items: [2000/3706]\n",
            "Items: [3000/3706]\n",
            "RMSE value: 0.22548378600838517\n",
            "Epoch: 3\n",
            "Users: [0/6040]\n",
            "Users: [1000/6040]\n",
            "Users: [2000/6040]\n",
            "Users: [3000/6040]\n",
            "Users: [4000/6040]\n",
            "Users: [5000/6040]\n",
            "Users: [6000/6040]\n",
            "^_^\n",
            "Items: [0/3706]\n",
            "Items: [1000/3706]\n",
            "Items: [2000/3706]\n",
            "Items: [3000/3706]\n",
            "RMSE value: 0.21603888652460043\n",
            "Epoch: 4\n",
            "Users: [0/6040]\n",
            "Users: [1000/6040]\n",
            "Users: [2000/6040]\n",
            "Users: [3000/6040]\n",
            "Users: [4000/6040]\n",
            "Users: [5000/6040]\n",
            "Users: [6000/6040]\n",
            "^_^\n",
            "Items: [0/3706]\n",
            "Items: [1000/3706]\n",
            "Items: [2000/3706]\n",
            "Items: [3000/3706]\n",
            "RMSE value: 0.21385535544345152\n",
            "Epoch: 5\n",
            "Users: [0/6040]\n",
            "Users: [1000/6040]\n",
            "Users: [2000/6040]\n",
            "Users: [3000/6040]\n",
            "Users: [4000/6040]\n",
            "Users: [5000/6040]\n",
            "Users: [6000/6040]\n",
            "^_^\n",
            "Items: [0/3706]\n",
            "Items: [1000/3706]\n",
            "Items: [2000/3706]\n",
            "Items: [3000/3706]\n",
            "RMSE value: 0.2055976688413565\n",
            "Epoch: 6\n",
            "Users: [0/6040]\n",
            "Users: [1000/6040]\n",
            "Users: [2000/6040]\n",
            "Users: [3000/6040]\n",
            "Users: [4000/6040]\n",
            "Users: [5000/6040]\n",
            "Users: [6000/6040]\n",
            "^_^\n",
            "Items: [0/3706]\n",
            "Items: [1000/3706]\n",
            "Items: [2000/3706]\n",
            "Items: [3000/3706]\n",
            "RMSE value: 0.21033853863732535\n",
            "Epoch: 7\n",
            "Users: [0/6040]\n",
            "Users: [1000/6040]\n",
            "Users: [2000/6040]\n",
            "Users: [3000/6040]\n",
            "Users: [4000/6040]\n",
            "Users: [5000/6040]\n",
            "Users: [6000/6040]\n",
            "^_^\n",
            "Items: [0/3706]\n",
            "Items: [1000/3706]\n",
            "Items: [2000/3706]\n",
            "Items: [3000/3706]\n",
            "RMSE value: 0.2149831000814954\n",
            "Epoch: 8\n",
            "Users: [0/6040]\n",
            "Users: [1000/6040]\n",
            "Users: [2000/6040]\n",
            "Users: [3000/6040]\n",
            "Users: [4000/6040]\n",
            "Users: [5000/6040]\n",
            "Users: [6000/6040]\n",
            "^_^\n",
            "Items: [0/3706]\n",
            "Items: [1000/3706]\n",
            "Items: [2000/3706]\n",
            "Items: [3000/3706]\n",
            "RMSE value: 0.21390175903987443\n",
            "Epoch: 9\n",
            "Users: [0/6040]\n",
            "Users: [1000/6040]\n",
            "Users: [2000/6040]\n",
            "Users: [3000/6040]\n",
            "Users: [4000/6040]\n",
            "Users: [5000/6040]\n",
            "Users: [6000/6040]\n",
            "^_^\n",
            "Items: [0/3706]\n",
            "Items: [1000/3706]\n",
            "Items: [2000/3706]\n",
            "Items: [3000/3706]\n",
            "RMSE value: 0.20253728228482742\n",
            "Epoch: 10\n",
            "Users: [0/6040]\n",
            "Users: [1000/6040]\n",
            "Users: [2000/6040]\n",
            "Users: [3000/6040]\n",
            "Users: [4000/6040]\n",
            "Users: [5000/6040]\n",
            "Users: [6000/6040]\n",
            "^_^\n",
            "Items: [0/3706]\n",
            "Items: [1000/3706]\n",
            "Items: [2000/3706]\n",
            "Items: [3000/3706]\n",
            "RMSE value: 0.20335528304536354\n",
            "Epoch: 11\n",
            "Users: [0/6040]\n",
            "Users: [1000/6040]\n",
            "Users: [2000/6040]\n",
            "Users: [3000/6040]\n",
            "Users: [4000/6040]\n",
            "Users: [5000/6040]\n",
            "Users: [6000/6040]\n",
            "^_^\n",
            "Items: [0/3706]\n",
            "Items: [1000/3706]\n",
            "Items: [2000/3706]\n",
            "Items: [3000/3706]\n",
            "RMSE value: 0.20132045361164674\n",
            "Epoch: 12\n",
            "Users: [0/6040]\n",
            "Users: [1000/6040]\n",
            "Users: [2000/6040]\n",
            "Users: [3000/6040]\n",
            "Users: [4000/6040]\n",
            "Users: [5000/6040]\n",
            "Users: [6000/6040]\n",
            "^_^\n",
            "Items: [0/3706]\n",
            "Items: [1000/3706]\n",
            "Items: [2000/3706]\n",
            "Items: [3000/3706]\n",
            "RMSE value: 0.21074281628451538\n",
            "Epoch: 13\n",
            "Users: [0/6040]\n",
            "Users: [1000/6040]\n",
            "Users: [2000/6040]\n",
            "Users: [3000/6040]\n",
            "Users: [4000/6040]\n",
            "Users: [5000/6040]\n",
            "Users: [6000/6040]\n",
            "^_^\n",
            "Items: [0/3706]\n",
            "Items: [1000/3706]\n",
            "Items: [2000/3706]\n",
            "Items: [3000/3706]\n",
            "RMSE value: 0.20177659604070647\n",
            "Epoch: 14\n",
            "Users: [0/6040]\n",
            "Users: [1000/6040]\n",
            "Users: [2000/6040]\n",
            "Users: [3000/6040]\n",
            "Users: [4000/6040]\n",
            "Users: [5000/6040]\n",
            "Users: [6000/6040]\n",
            "^_^\n",
            "Items: [0/3706]\n",
            "Items: [1000/3706]\n",
            "Items: [2000/3706]\n",
            "Items: [3000/3706]\n",
            "RMSE value: 0.20920331380221976\n",
            "Epoch: 15\n",
            "Users: [0/6040]\n",
            "Users: [1000/6040]\n",
            "Users: [2000/6040]\n",
            "Users: [3000/6040]\n",
            "Users: [4000/6040]\n",
            "Users: [5000/6040]\n",
            "Users: [6000/6040]\n",
            "^_^\n",
            "Items: [0/3706]\n",
            "Items: [1000/3706]\n",
            "Items: [2000/3706]\n",
            "Items: [3000/3706]\n",
            "RMSE value: 0.20685292344353798\n",
            "Epoch: 16\n",
            "Users: [0/6040]\n",
            "Users: [1000/6040]\n",
            "Users: [2000/6040]\n",
            "Users: [3000/6040]\n",
            "Users: [4000/6040]\n",
            "Users: [5000/6040]\n",
            "Users: [6000/6040]\n",
            "^_^\n",
            "Items: [0/3706]\n",
            "Items: [1000/3706]\n",
            "Items: [2000/3706]\n",
            "Items: [3000/3706]\n",
            "RMSE value: 0.20177767285858492\n",
            "Epoch: 17\n",
            "Users: [0/6040]\n",
            "Users: [1000/6040]\n",
            "Users: [2000/6040]\n",
            "Users: [3000/6040]\n",
            "Users: [4000/6040]\n",
            "Users: [5000/6040]\n",
            "Users: [6000/6040]\n",
            "^_^\n",
            "Items: [0/3706]\n",
            "Items: [1000/3706]\n",
            "Items: [2000/3706]\n",
            "Items: [3000/3706]\n",
            "RMSE value: 0.1992710127932725\n",
            "Epoch: 18\n",
            "Users: [0/6040]\n",
            "Users: [1000/6040]\n",
            "Users: [2000/6040]\n",
            "Users: [3000/6040]\n",
            "Users: [4000/6040]\n",
            "Users: [5000/6040]\n",
            "Users: [6000/6040]\n",
            "^_^\n",
            "Items: [0/3706]\n",
            "Items: [1000/3706]\n",
            "Items: [2000/3706]\n",
            "Items: [3000/3706]\n",
            "RMSE value: 0.2081084895723474\n",
            "Epoch: 19\n",
            "Users: [0/6040]\n",
            "Users: [1000/6040]\n",
            "Users: [2000/6040]\n",
            "Users: [3000/6040]\n",
            "Users: [4000/6040]\n",
            "Users: [5000/6040]\n",
            "Users: [6000/6040]\n",
            "^_^\n",
            "Items: [0/3706]\n",
            "Items: [1000/3706]\n",
            "Items: [2000/3706]\n",
            "Items: [3000/3706]\n",
            "RMSE value: 0.21077066453640458\n",
            "Epoch: 20\n",
            "Users: [0/6040]\n",
            "Users: [1000/6040]\n",
            "Users: [2000/6040]\n",
            "Users: [3000/6040]\n",
            "Users: [4000/6040]\n",
            "Users: [5000/6040]\n",
            "Users: [6000/6040]\n",
            "^_^\n",
            "Items: [0/3706]\n",
            "Items: [1000/3706]\n",
            "Items: [2000/3706]\n",
            "Items: [3000/3706]\n",
            "RMSE value: 0.20958714039897677\n"
          ],
          "name": "stdout"
        }
      ]
    },
    {
      "cell_type": "code",
      "metadata": {
        "id": "MOaKz0Yb-lAC",
        "outputId": "1345a3f1-6c0e-44d8-bbda-ba10a564e70e",
        "colab": {
          "base_uri": "https://localhost:8080/",
          "height": 377
        }
      },
      "source": [
        "similar_movies = als.get_similars_items(movie2idx[1])[0]\n",
        "similar_movies = [idx2movie[idx] for idx in similar_movies]\n",
        "movie_info.set_index('movie_id').loc[similar_movies, :]"
      ],
      "execution_count": null,
      "outputs": [
        {
          "output_type": "execute_result",
          "data": {
            "text/html": [
              "<div>\n",
              "<style scoped>\n",
              "    .dataframe tbody tr th:only-of-type {\n",
              "        vertical-align: middle;\n",
              "    }\n",
              "\n",
              "    .dataframe tbody tr th {\n",
              "        vertical-align: top;\n",
              "    }\n",
              "\n",
              "    .dataframe thead th {\n",
              "        text-align: right;\n",
              "    }\n",
              "</style>\n",
              "<table border=\"1\" class=\"dataframe\">\n",
              "  <thead>\n",
              "    <tr style=\"text-align: right;\">\n",
              "      <th></th>\n",
              "      <th>name</th>\n",
              "      <th>category</th>\n",
              "    </tr>\n",
              "    <tr>\n",
              "      <th>movie_id</th>\n",
              "      <th></th>\n",
              "      <th></th>\n",
              "    </tr>\n",
              "  </thead>\n",
              "  <tbody>\n",
              "    <tr>\n",
              "      <th>1</th>\n",
              "      <td>Toy Story (1995)</td>\n",
              "      <td>Animation|Children's|Comedy</td>\n",
              "    </tr>\n",
              "    <tr>\n",
              "      <th>3114</th>\n",
              "      <td>Toy Story 2 (1999)</td>\n",
              "      <td>Animation|Children's|Comedy</td>\n",
              "    </tr>\n",
              "    <tr>\n",
              "      <th>34</th>\n",
              "      <td>Babe (1995)</td>\n",
              "      <td>Children's|Comedy|Drama</td>\n",
              "    </tr>\n",
              "    <tr>\n",
              "      <th>1265</th>\n",
              "      <td>Groundhog Day (1993)</td>\n",
              "      <td>Comedy|Romance</td>\n",
              "    </tr>\n",
              "    <tr>\n",
              "      <th>2355</th>\n",
              "      <td>Bug's Life, A (1998)</td>\n",
              "      <td>Animation|Children's|Comedy</td>\n",
              "    </tr>\n",
              "    <tr>\n",
              "      <th>2396</th>\n",
              "      <td>Shakespeare in Love (1998)</td>\n",
              "      <td>Comedy|Romance</td>\n",
              "    </tr>\n",
              "    <tr>\n",
              "      <th>1923</th>\n",
              "      <td>There's Something About Mary (1998)</td>\n",
              "      <td>Comedy</td>\n",
              "    </tr>\n",
              "    <tr>\n",
              "      <th>2321</th>\n",
              "      <td>Pleasantville (1998)</td>\n",
              "      <td>Comedy</td>\n",
              "    </tr>\n",
              "    <tr>\n",
              "      <th>1641</th>\n",
              "      <td>Full Monty, The (1997)</td>\n",
              "      <td>Comedy</td>\n",
              "    </tr>\n",
              "    <tr>\n",
              "      <th>356</th>\n",
              "      <td>Forrest Gump (1994)</td>\n",
              "      <td>Comedy|Romance|War</td>\n",
              "    </tr>\n",
              "  </tbody>\n",
              "</table>\n",
              "</div>"
            ],
            "text/plain": [
              "                                         name                     category\n",
              "movie_id                                                                  \n",
              "1                            Toy Story (1995)  Animation|Children's|Comedy\n",
              "3114                       Toy Story 2 (1999)  Animation|Children's|Comedy\n",
              "34                                Babe (1995)      Children's|Comedy|Drama\n",
              "1265                     Groundhog Day (1993)               Comedy|Romance\n",
              "2355                     Bug's Life, A (1998)  Animation|Children's|Comedy\n",
              "2396               Shakespeare in Love (1998)               Comedy|Romance\n",
              "1923      There's Something About Mary (1998)                       Comedy\n",
              "2321                     Pleasantville (1998)                       Comedy\n",
              "1641                   Full Monty, The (1997)                       Comedy\n",
              "356                       Forrest Gump (1994)           Comedy|Romance|War"
            ]
          },
          "metadata": {
            "tags": []
          },
          "execution_count": 235
        }
      ]
    },
    {
      "cell_type": "code",
      "metadata": {
        "id": "rIohhs8e_MDY",
        "outputId": "faca22b6-9756-48b5-d6a2-7f578e0098cd",
        "colab": {
          "base_uri": "https://localhost:8080/",
          "height": 707
        }
      },
      "source": [
        "hist = als.get_history(user2idx[4])\n",
        "hist = [idx2movie[movie] for movie in hist]\n",
        "movie_info.set_index('movie_id').loc[hist, :]"
      ],
      "execution_count": null,
      "outputs": [
        {
          "output_type": "execute_result",
          "data": {
            "text/html": [
              "<div>\n",
              "<style scoped>\n",
              "    .dataframe tbody tr th:only-of-type {\n",
              "        vertical-align: middle;\n",
              "    }\n",
              "\n",
              "    .dataframe tbody tr th {\n",
              "        vertical-align: top;\n",
              "    }\n",
              "\n",
              "    .dataframe thead th {\n",
              "        text-align: right;\n",
              "    }\n",
              "</style>\n",
              "<table border=\"1\" class=\"dataframe\">\n",
              "  <thead>\n",
              "    <tr style=\"text-align: right;\">\n",
              "      <th></th>\n",
              "      <th>name</th>\n",
              "      <th>category</th>\n",
              "    </tr>\n",
              "    <tr>\n",
              "      <th>movie_id</th>\n",
              "      <th></th>\n",
              "      <th></th>\n",
              "    </tr>\n",
              "  </thead>\n",
              "  <tbody>\n",
              "    <tr>\n",
              "      <th>260</th>\n",
              "      <td>Star Wars: Episode IV - A New Hope (1977)</td>\n",
              "      <td>Action|Adventure|Fantasy|Sci-Fi</td>\n",
              "    </tr>\n",
              "    <tr>\n",
              "      <th>480</th>\n",
              "      <td>Jurassic Park (1993)</td>\n",
              "      <td>Action|Adventure|Sci-Fi</td>\n",
              "    </tr>\n",
              "    <tr>\n",
              "      <th>1036</th>\n",
              "      <td>Die Hard (1988)</td>\n",
              "      <td>Action|Thriller</td>\n",
              "    </tr>\n",
              "    <tr>\n",
              "      <th>1097</th>\n",
              "      <td>E.T. the Extra-Terrestrial (1982)</td>\n",
              "      <td>Children's|Drama|Fantasy|Sci-Fi</td>\n",
              "    </tr>\n",
              "    <tr>\n",
              "      <th>1196</th>\n",
              "      <td>Star Wars: Episode V - The Empire Strikes Back...</td>\n",
              "      <td>Action|Adventure|Drama|Sci-Fi|War</td>\n",
              "    </tr>\n",
              "    <tr>\n",
              "      <th>1198</th>\n",
              "      <td>Raiders of the Lost Ark (1981)</td>\n",
              "      <td>Action|Adventure</td>\n",
              "    </tr>\n",
              "    <tr>\n",
              "      <th>1201</th>\n",
              "      <td>Good, The Bad and The Ugly, The (1966)</td>\n",
              "      <td>Action|Western</td>\n",
              "    </tr>\n",
              "    <tr>\n",
              "      <th>1210</th>\n",
              "      <td>Star Wars: Episode VI - Return of the Jedi (1983)</td>\n",
              "      <td>Action|Adventure|Romance|Sci-Fi|War</td>\n",
              "    </tr>\n",
              "    <tr>\n",
              "      <th>1214</th>\n",
              "      <td>Alien (1979)</td>\n",
              "      <td>Action|Horror|Sci-Fi|Thriller</td>\n",
              "    </tr>\n",
              "    <tr>\n",
              "      <th>1240</th>\n",
              "      <td>Terminator, The (1984)</td>\n",
              "      <td>Action|Sci-Fi|Thriller</td>\n",
              "    </tr>\n",
              "    <tr>\n",
              "      <th>1387</th>\n",
              "      <td>Jaws (1975)</td>\n",
              "      <td>Action|Horror</td>\n",
              "    </tr>\n",
              "    <tr>\n",
              "      <th>1954</th>\n",
              "      <td>Rocky (1976)</td>\n",
              "      <td>Action|Drama</td>\n",
              "    </tr>\n",
              "    <tr>\n",
              "      <th>2028</th>\n",
              "      <td>Saving Private Ryan (1998)</td>\n",
              "      <td>Action|Drama|War</td>\n",
              "    </tr>\n",
              "    <tr>\n",
              "      <th>2366</th>\n",
              "      <td>King Kong (1933)</td>\n",
              "      <td>Action|Adventure|Horror</td>\n",
              "    </tr>\n",
              "    <tr>\n",
              "      <th>2692</th>\n",
              "      <td>Run Lola Run (Lola rennt) (1998)</td>\n",
              "      <td>Action|Crime|Romance</td>\n",
              "    </tr>\n",
              "    <tr>\n",
              "      <th>2947</th>\n",
              "      <td>Goldfinger (1964)</td>\n",
              "      <td>Action</td>\n",
              "    </tr>\n",
              "    <tr>\n",
              "      <th>2951</th>\n",
              "      <td>Fistful of Dollars, A (1964)</td>\n",
              "      <td>Action|Western</td>\n",
              "    </tr>\n",
              "    <tr>\n",
              "      <th>3418</th>\n",
              "      <td>Thelma &amp; Louise (1991)</td>\n",
              "      <td>Action|Drama</td>\n",
              "    </tr>\n",
              "    <tr>\n",
              "      <th>3468</th>\n",
              "      <td>Hustler, The (1961)</td>\n",
              "      <td>Drama</td>\n",
              "    </tr>\n",
              "    <tr>\n",
              "      <th>3527</th>\n",
              "      <td>Predator (1987)</td>\n",
              "      <td>Action|Sci-Fi|Thriller</td>\n",
              "    </tr>\n",
              "    <tr>\n",
              "      <th>3702</th>\n",
              "      <td>Mad Max (1979)</td>\n",
              "      <td>Action|Sci-Fi</td>\n",
              "    </tr>\n",
              "  </tbody>\n",
              "</table>\n",
              "</div>"
            ],
            "text/plain": [
              "                                                       name                             category\n",
              "movie_id                                                                                        \n",
              "260               Star Wars: Episode IV - A New Hope (1977)      Action|Adventure|Fantasy|Sci-Fi\n",
              "480                                    Jurassic Park (1993)              Action|Adventure|Sci-Fi\n",
              "1036                                        Die Hard (1988)                      Action|Thriller\n",
              "1097                      E.T. the Extra-Terrestrial (1982)      Children's|Drama|Fantasy|Sci-Fi\n",
              "1196      Star Wars: Episode V - The Empire Strikes Back...    Action|Adventure|Drama|Sci-Fi|War\n",
              "1198                         Raiders of the Lost Ark (1981)                     Action|Adventure\n",
              "1201                 Good, The Bad and The Ugly, The (1966)                       Action|Western\n",
              "1210      Star Wars: Episode VI - Return of the Jedi (1983)  Action|Adventure|Romance|Sci-Fi|War\n",
              "1214                                           Alien (1979)        Action|Horror|Sci-Fi|Thriller\n",
              "1240                                 Terminator, The (1984)               Action|Sci-Fi|Thriller\n",
              "1387                                            Jaws (1975)                        Action|Horror\n",
              "1954                                           Rocky (1976)                         Action|Drama\n",
              "2028                             Saving Private Ryan (1998)                     Action|Drama|War\n",
              "2366                                       King Kong (1933)              Action|Adventure|Horror\n",
              "2692                       Run Lola Run (Lola rennt) (1998)                 Action|Crime|Romance\n",
              "2947                                      Goldfinger (1964)                               Action\n",
              "2951                           Fistful of Dollars, A (1964)                       Action|Western\n",
              "3418                                 Thelma & Louise (1991)                         Action|Drama\n",
              "3468                                    Hustler, The (1961)                                Drama\n",
              "3527                                        Predator (1987)               Action|Sci-Fi|Thriller\n",
              "3702                                         Mad Max (1979)                        Action|Sci-Fi"
            ]
          },
          "metadata": {
            "tags": []
          },
          "execution_count": 236
        }
      ]
    },
    {
      "cell_type": "code",
      "metadata": {
        "id": "VJfU4BiCDnlj",
        "outputId": "89d0318f-4786-4f9e-c287-678792e9dedd",
        "colab": {
          "base_uri": "https://localhost:8080/",
          "height": 377
        }
      },
      "source": [
        "recs = als.get_recommends(user2idx[4], 10)\n",
        "recs = [idx2movie[rec] for rec in recs]\n",
        "movie_info.set_index('movie_id').loc[recs, :]"
      ],
      "execution_count": null,
      "outputs": [
        {
          "output_type": "execute_result",
          "data": {
            "text/html": [
              "<div>\n",
              "<style scoped>\n",
              "    .dataframe tbody tr th:only-of-type {\n",
              "        vertical-align: middle;\n",
              "    }\n",
              "\n",
              "    .dataframe tbody tr th {\n",
              "        vertical-align: top;\n",
              "    }\n",
              "\n",
              "    .dataframe thead th {\n",
              "        text-align: right;\n",
              "    }\n",
              "</style>\n",
              "<table border=\"1\" class=\"dataframe\">\n",
              "  <thead>\n",
              "    <tr style=\"text-align: right;\">\n",
              "      <th></th>\n",
              "      <th>name</th>\n",
              "      <th>category</th>\n",
              "    </tr>\n",
              "    <tr>\n",
              "      <th>movie_id</th>\n",
              "      <th></th>\n",
              "      <th></th>\n",
              "    </tr>\n",
              "  </thead>\n",
              "  <tbody>\n",
              "    <tr>\n",
              "      <th>1200</th>\n",
              "      <td>Aliens (1986)</td>\n",
              "      <td>Action|Sci-Fi|Thriller|War</td>\n",
              "    </tr>\n",
              "    <tr>\n",
              "      <th>858</th>\n",
              "      <td>Godfather, The (1972)</td>\n",
              "      <td>Action|Crime|Drama</td>\n",
              "    </tr>\n",
              "    <tr>\n",
              "      <th>1221</th>\n",
              "      <td>Godfather: Part II, The (1974)</td>\n",
              "      <td>Action|Crime|Drama</td>\n",
              "    </tr>\n",
              "    <tr>\n",
              "      <th>2571</th>\n",
              "      <td>Matrix, The (1999)</td>\n",
              "      <td>Action|Sci-Fi|Thriller</td>\n",
              "    </tr>\n",
              "    <tr>\n",
              "      <th>589</th>\n",
              "      <td>Terminator 2: Judgment Day (1991)</td>\n",
              "      <td>Action|Sci-Fi|Thriller</td>\n",
              "    </tr>\n",
              "    <tr>\n",
              "      <th>457</th>\n",
              "      <td>Fugitive, The (1993)</td>\n",
              "      <td>Action|Thriller</td>\n",
              "    </tr>\n",
              "    <tr>\n",
              "      <th>1291</th>\n",
              "      <td>Indiana Jones and the Last Crusade (1989)</td>\n",
              "      <td>Action|Adventure</td>\n",
              "    </tr>\n",
              "    <tr>\n",
              "      <th>110</th>\n",
              "      <td>Braveheart (1995)</td>\n",
              "      <td>Action|Drama|War</td>\n",
              "    </tr>\n",
              "    <tr>\n",
              "      <th>3703</th>\n",
              "      <td>Mad Max 2 (a.k.a. The Road Warrior) (1981)</td>\n",
              "      <td>Action|Sci-Fi</td>\n",
              "    </tr>\n",
              "    <tr>\n",
              "      <th>1222</th>\n",
              "      <td>Full Metal Jacket (1987)</td>\n",
              "      <td>Action|Drama|War</td>\n",
              "    </tr>\n",
              "  </tbody>\n",
              "</table>\n",
              "</div>"
            ],
            "text/plain": [
              "                                                name                    category\n",
              "movie_id                                                                        \n",
              "1200                                   Aliens (1986)  Action|Sci-Fi|Thriller|War\n",
              "858                            Godfather, The (1972)          Action|Crime|Drama\n",
              "1221                  Godfather: Part II, The (1974)          Action|Crime|Drama\n",
              "2571                              Matrix, The (1999)      Action|Sci-Fi|Thriller\n",
              "589                Terminator 2: Judgment Day (1991)      Action|Sci-Fi|Thriller\n",
              "457                             Fugitive, The (1993)             Action|Thriller\n",
              "1291       Indiana Jones and the Last Crusade (1989)            Action|Adventure\n",
              "110                                Braveheart (1995)            Action|Drama|War\n",
              "3703      Mad Max 2 (a.k.a. The Road Warrior) (1981)               Action|Sci-Fi\n",
              "1222                        Full Metal Jacket (1987)            Action|Drama|War"
            ]
          },
          "metadata": {
            "tags": []
          },
          "execution_count": 237
        }
      ]
    },
    {
      "cell_type": "markdown",
      "metadata": {
        "id": "n6UHKu6Txv5P"
      },
      "source": [
        "# Задание 3. Не использую готовые решения, реализовать матричное разложение BPR на implicit данных"
      ]
    },
    {
      "cell_type": "markdown",
      "metadata": {
        "id": "mQFgBgPRLKyT"
      },
      "source": [
        "Здесь мы максимизируем правдоподобие, поэтому в качестве лосса вывожу -log_likelihood / num_triplets (нормирую, чтобы было удобно останавливаться)."
      ]
    },
    {
      "cell_type": "code",
      "metadata": {
        "id": "O4VjeMk_xv5P"
      },
      "source": [
        "class BPR:\n",
        "    def __init__(self, \n",
        "                 n_users: int, \n",
        "                 n_items: int, \n",
        "                 latent_dim: int = 128, \n",
        "                 num_epochs: int = 100, \n",
        "                 neg_size: int = 5,\n",
        "                 eps: float = 0., \n",
        "                 check_loss_on = 1000,\n",
        "                 lr: float = 1e-2, \n",
        "                 reg: float = 1e-2,\n",
        "                 seed: int = 73):\n",
        "        \n",
        "        self.n_users = n_users\n",
        "        self.n_items = n_items\n",
        "        self.latent_dim = latent_dim\n",
        "        self.neg_size = neg_size\n",
        "        self.eps = eps\n",
        "        self.check_loss_on = check_loss_on\n",
        "        self.num_epochs = num_epochs\n",
        "        self.reg = reg\n",
        "        self.seed = seed\n",
        "        self.lr = lr\n",
        "        np.random.seed(seed)\n",
        "\n",
        "        self.U = np.random.uniform(low=0, high=1/np.sqrt(latent_dim), \n",
        "                              size=(n_users, latent_dim))\n",
        "        self.V = np.random.uniform(low=0, high=1/np.sqrt(latent_dim), \n",
        "                              size=(n_items, latent_dim))\n",
        "    \n",
        "    def check_loss(self):\n",
        "        #check likelihood\n",
        "        # We calculate likelihood on self.check_loss_on random user-item-neg_item triplets\n",
        "        rand_indexes2check = np.random.randint(self.X.nnz, \n",
        "                                               size=(self.check_loss_on, ))\n",
        "        nonzero_inds = self.X.nonzero()\n",
        "        nonzero_u = nonzero_inds[0][rand_indexes2check]\n",
        "        nonzero_i = nonzero_inds[1][rand_indexes2check]\n",
        "        L = 0\n",
        "        for user, item in zip(list(nonzero_u), list(nonzero_i)):\n",
        "            negative = np.random.choice(self.negative_items[user], \n",
        "                                        self.neg_size, replace=False)\n",
        "            x_uij = (self.V[item, :] - self.V[negative, :]) @ self.U[user, :]\n",
        "            L += -np.log(1 + np.exp(-x_uij)).sum(axis=0)\n",
        "        L /= self.check_loss_on * self.neg_size\n",
        "        L = -L\n",
        "        print(f'Loss value: {L}')\n",
        "        return L\n",
        "\n",
        "\n",
        "    def fit(self, X: sp.csr.csr_matrix):\n",
        "        assert self.n_users, self.n_items == X.shape\n",
        "\n",
        "        self.X = X\n",
        "        cur_epoch = 0               \n",
        "        \n",
        "        self.positive_items = {}\n",
        "        self.negative_items = {}\n",
        "\n",
        "        for user in range(self.n_users):\n",
        "            rating = self.X.getrow(user)\n",
        "            self.positive_items[user] = rating.nonzero()[1]\n",
        "            self.negative_items[user] = np.array(list(\n",
        "                set(range(self.X.shape[1])) - set(self.positive_items[user])))\n",
        "        L = self.check_loss()\n",
        "\n",
        "        \n",
        "        while cur_epoch < self.num_epochs and L > self.eps:\n",
        "            print(f'Epoch: {cur_epoch + 1}')\n",
        "\n",
        "            for i, user in enumerate(np.random.permutation(range(self.n_users))):\n",
        "                for item in np.random.permutation(self.positive_items[user]):\n",
        "\n",
        "                    negative = np.random.choice(self.negative_items[user], \n",
        "                                                self.neg_size, replace=False)\n",
        "                    \n",
        "                    diff_V = self.V[item, :] - self.V[negative, :]\n",
        "                    x_uij = diff_V @ self.U[user, :]\n",
        "                    coeff = 1 / (1 + np.exp(x_uij))\n",
        "                    coeff_mult_U = np.outer(coeff, self.U[user, :])\n",
        "\n",
        "                    self.V[negative, :] += self.lr * (-coeff_mult_U - \n",
        "                                                      self.reg * self.V[negative, :])\n",
        "                    self.V[item, :] += self.lr * (coeff_mult_U.sum(axis=0) - \n",
        "                                                  self.reg * self.V[item, :])\n",
        "                    self.U[user, :] += self.lr * ((\n",
        "                        coeff.reshape((-1, 1)) * diff_V).sum(axis=0) - \n",
        "                                                  self.reg * self.U[user, :])\n",
        "                                 \n",
        "                if not i % 1000:\n",
        "                    self.check_loss()\n",
        "           \n",
        "            cur_epoch += 1\n",
        "            L = self.check_loss()\n",
        "    \n",
        "        self.U_KDTree = KDTree(self.U)\n",
        "        self.V_KDTree = KDTree(self.V)\n",
        "        \n",
        "    def get_similars_items(self, item_ids: Union[int, list, np.ndarray], \n",
        "                           num_neighbors: int = 10):\n",
        "        if isinstance(item_ids, list) or isinstance(item_ids, np.ndarray):\n",
        "            return self.V_KDTree.query(self.V[item_ids, :], \n",
        "                                       k=num_neighbors, return_distance=False)   \n",
        "        return self.V_KDTree.query([self.V[item_ids, :]], \n",
        "                                   k=num_neighbors, return_distance=False)\n",
        "    \n",
        "    def get_similars_users(self, user_ids: Union[int, list, np.ndarray], \n",
        "                           num_neighbors: int = 10):\n",
        "        if isinstance(item_ids, list) or isinstance(item_ids, np.ndarray):\n",
        "            return self.U_KDTree.query(self.U[user_ids, :], k=num_neighbors, \n",
        "                                       return_distance=False)   \n",
        "        return self.U_KDTree.query([self.U[item_ids, :]], k=num_neighbors, \n",
        "                                   return_distance=False)\n",
        "    \n",
        "    def get_history(self, user_id: int):\n",
        "        return [it_id for it_id in self.X.getrow(user_id).nonzero()[1]]\n",
        "\n",
        "    def get_recommends(self, user_id: int, num_recs: int = 10):\n",
        "        rating = self.X.getrow(user_id)\n",
        "        \n",
        "        not_known_items = np.array(list(\n",
        "            set(range(self.X.shape[1])) - set(rating.nonzero()[1])))\n",
        "        score = self.U[user_id, :] @ self.V[not_known_items, :].T\n",
        "        order = np.argsort(score)\n",
        "        order = order[::-1]\n",
        "        return not_known_items[order[: num_recs]]\n",
        "\n",
        "\n"
      ],
      "execution_count": 153,
      "outputs": []
    },
    {
      "cell_type": "markdown",
      "metadata": {
        "id": "mRxcYU4GkAwY"
      },
      "source": [
        "## Запуск BPR"
      ]
    },
    {
      "cell_type": "code",
      "metadata": {
        "id": "0OLGBHVZkC-Z"
      },
      "source": [
        "bpr = BPR(n_users=user_item.shape[0], n_items=user_item.shape[1], num_epochs=5, eps=1e-1, latent_dim=128, neg_size=10, lr=1e-2, reg=1e-4)"
      ],
      "execution_count": 154,
      "outputs": []
    },
    {
      "cell_type": "code",
      "metadata": {
        "id": "earawE3GkMbE",
        "outputId": "d2f0419b-7e40-4e4f-b24e-8c346ec6ca32",
        "colab": {
          "base_uri": "https://localhost:8080/",
          "height": 799
        }
      },
      "source": [
        "bpr.fit(user_item_csr)"
      ],
      "execution_count": 155,
      "outputs": [
        {
          "output_type": "stream",
          "text": [
            "Loss value: 0.693249064778535\n",
            "Epoch: 1\n",
            "Loss value: 0.6920902098558579\n",
            "Loss value: 0.448211100027927\n",
            "Loss value: 0.4118927335788052\n",
            "Loss value: 0.3657205202283755\n",
            "Loss value: 0.34147443072825323\n",
            "Loss value: 0.3001819688521727\n",
            "Loss value: 0.25728320165886515\n",
            "Loss value: 0.24429711760442202\n",
            "Epoch: 2\n",
            "Loss value: 0.24908759895614352\n",
            "Loss value: 0.22331711957460443\n",
            "Loss value: 0.22043213124722882\n",
            "Loss value: 0.21999396684746025\n",
            "Loss value: 0.22603370598412492\n",
            "Loss value: 0.20069606019390154\n",
            "Loss value: 0.18194131140061143\n",
            "Loss value: 0.17313953149418168\n",
            "Epoch: 3\n",
            "Loss value: 0.16982891340465395\n",
            "Loss value: 0.17242022258944356\n",
            "Loss value: 0.19849515397983974\n",
            "Loss value: 0.1745308057790078\n",
            "Loss value: 0.17073378400503977\n",
            "Loss value: 0.16343709455730732\n",
            "Loss value: 0.15455988455549552\n",
            "Loss value: 0.15355115792201912\n",
            "Epoch: 4\n",
            "Loss value: 0.1653348178006134\n",
            "Loss value: 0.16021369626157475\n",
            "Loss value: 0.1500608087868829\n",
            "Loss value: 0.14592689645545337\n",
            "Loss value: 0.14003361928743635\n",
            "Loss value: 0.13744194591582576\n",
            "Loss value: 0.13029916458321958\n",
            "Loss value: 0.13042175597242275\n",
            "Epoch: 5\n",
            "Loss value: 0.13469417301805237\n",
            "Loss value: 0.13814027988592528\n",
            "Loss value: 0.13317316393116774\n",
            "Loss value: 0.13079590835338498\n",
            "Loss value: 0.12134895112188317\n",
            "Loss value: 0.11714803095888378\n",
            "Loss value: 0.11793399555532803\n",
            "Loss value: 0.10900496156808984\n"
          ],
          "name": "stdout"
        }
      ]
    },
    {
      "cell_type": "code",
      "metadata": {
        "id": "dpQOgohYZBO5",
        "outputId": "fbe3d31b-9a68-47b1-bb91-0c661e90ff32",
        "colab": {
          "base_uri": "https://localhost:8080/",
          "height": 390
        }
      },
      "source": [
        "similar_movies = bpr.get_similars_items(movie2idx[1])[0]\n",
        "similar_movies = [idx2movie[idx] for idx in similar_movies]\n",
        "movie_info.set_index('movie_id').loc[similar_movies, :]"
      ],
      "execution_count": 156,
      "outputs": [
        {
          "output_type": "execute_result",
          "data": {
            "text/html": [
              "<div>\n",
              "<style scoped>\n",
              "    .dataframe tbody tr th:only-of-type {\n",
              "        vertical-align: middle;\n",
              "    }\n",
              "\n",
              "    .dataframe tbody tr th {\n",
              "        vertical-align: top;\n",
              "    }\n",
              "\n",
              "    .dataframe thead th {\n",
              "        text-align: right;\n",
              "    }\n",
              "</style>\n",
              "<table border=\"1\" class=\"dataframe\">\n",
              "  <thead>\n",
              "    <tr style=\"text-align: right;\">\n",
              "      <th></th>\n",
              "      <th>name</th>\n",
              "      <th>category</th>\n",
              "    </tr>\n",
              "    <tr>\n",
              "      <th>movie_id</th>\n",
              "      <th></th>\n",
              "      <th></th>\n",
              "    </tr>\n",
              "  </thead>\n",
              "  <tbody>\n",
              "    <tr>\n",
              "      <th>1</th>\n",
              "      <td>Toy Story (1995)</td>\n",
              "      <td>Animation|Children's|Comedy</td>\n",
              "    </tr>\n",
              "    <tr>\n",
              "      <th>34</th>\n",
              "      <td>Babe (1995)</td>\n",
              "      <td>Children's|Comedy|Drama</td>\n",
              "    </tr>\n",
              "    <tr>\n",
              "      <th>3114</th>\n",
              "      <td>Toy Story 2 (1999)</td>\n",
              "      <td>Animation|Children's|Comedy</td>\n",
              "    </tr>\n",
              "    <tr>\n",
              "      <th>2355</th>\n",
              "      <td>Bug's Life, A (1998)</td>\n",
              "      <td>Animation|Children's|Comedy</td>\n",
              "    </tr>\n",
              "    <tr>\n",
              "      <th>588</th>\n",
              "      <td>Aladdin (1992)</td>\n",
              "      <td>Animation|Children's|Comedy|Musical</td>\n",
              "    </tr>\n",
              "    <tr>\n",
              "      <th>1265</th>\n",
              "      <td>Groundhog Day (1993)</td>\n",
              "      <td>Comedy|Romance</td>\n",
              "    </tr>\n",
              "    <tr>\n",
              "      <th>2384</th>\n",
              "      <td>Babe: Pig in the City (1998)</td>\n",
              "      <td>Children's|Comedy</td>\n",
              "    </tr>\n",
              "    <tr>\n",
              "      <th>2321</th>\n",
              "      <td>Pleasantville (1998)</td>\n",
              "      <td>Comedy</td>\n",
              "    </tr>\n",
              "    <tr>\n",
              "      <th>356</th>\n",
              "      <td>Forrest Gump (1994)</td>\n",
              "      <td>Comedy|Romance|War</td>\n",
              "    </tr>\n",
              "    <tr>\n",
              "      <th>364</th>\n",
              "      <td>Lion King, The (1994)</td>\n",
              "      <td>Animation|Children's|Musical</td>\n",
              "    </tr>\n",
              "  </tbody>\n",
              "</table>\n",
              "</div>"
            ],
            "text/plain": [
              "                                  name                             category\n",
              "movie_id                                                                   \n",
              "1                     Toy Story (1995)          Animation|Children's|Comedy\n",
              "34                         Babe (1995)              Children's|Comedy|Drama\n",
              "3114                Toy Story 2 (1999)          Animation|Children's|Comedy\n",
              "2355              Bug's Life, A (1998)          Animation|Children's|Comedy\n",
              "588                     Aladdin (1992)  Animation|Children's|Comedy|Musical\n",
              "1265              Groundhog Day (1993)                       Comedy|Romance\n",
              "2384      Babe: Pig in the City (1998)                    Children's|Comedy\n",
              "2321              Pleasantville (1998)                               Comedy\n",
              "356                Forrest Gump (1994)                   Comedy|Romance|War\n",
              "364              Lion King, The (1994)         Animation|Children's|Musical"
            ]
          },
          "metadata": {
            "tags": []
          },
          "execution_count": 156
        }
      ]
    },
    {
      "cell_type": "code",
      "metadata": {
        "id": "PyjTf9I_ZEUn",
        "outputId": "b57a680e-4364-415c-80ec-08fcb2a9df66",
        "colab": {
          "base_uri": "https://localhost:8080/",
          "height": 731
        }
      },
      "source": [
        "hist = bpr.get_history(user2idx[4])\n",
        "hist = [idx2movie[movie] for movie in hist]\n",
        "movie_info.set_index('movie_id').loc[hist, :]"
      ],
      "execution_count": 157,
      "outputs": [
        {
          "output_type": "execute_result",
          "data": {
            "text/html": [
              "<div>\n",
              "<style scoped>\n",
              "    .dataframe tbody tr th:only-of-type {\n",
              "        vertical-align: middle;\n",
              "    }\n",
              "\n",
              "    .dataframe tbody tr th {\n",
              "        vertical-align: top;\n",
              "    }\n",
              "\n",
              "    .dataframe thead th {\n",
              "        text-align: right;\n",
              "    }\n",
              "</style>\n",
              "<table border=\"1\" class=\"dataframe\">\n",
              "  <thead>\n",
              "    <tr style=\"text-align: right;\">\n",
              "      <th></th>\n",
              "      <th>name</th>\n",
              "      <th>category</th>\n",
              "    </tr>\n",
              "    <tr>\n",
              "      <th>movie_id</th>\n",
              "      <th></th>\n",
              "      <th></th>\n",
              "    </tr>\n",
              "  </thead>\n",
              "  <tbody>\n",
              "    <tr>\n",
              "      <th>260</th>\n",
              "      <td>Star Wars: Episode IV - A New Hope (1977)</td>\n",
              "      <td>Action|Adventure|Fantasy|Sci-Fi</td>\n",
              "    </tr>\n",
              "    <tr>\n",
              "      <th>480</th>\n",
              "      <td>Jurassic Park (1993)</td>\n",
              "      <td>Action|Adventure|Sci-Fi</td>\n",
              "    </tr>\n",
              "    <tr>\n",
              "      <th>1036</th>\n",
              "      <td>Die Hard (1988)</td>\n",
              "      <td>Action|Thriller</td>\n",
              "    </tr>\n",
              "    <tr>\n",
              "      <th>1097</th>\n",
              "      <td>E.T. the Extra-Terrestrial (1982)</td>\n",
              "      <td>Children's|Drama|Fantasy|Sci-Fi</td>\n",
              "    </tr>\n",
              "    <tr>\n",
              "      <th>1196</th>\n",
              "      <td>Star Wars: Episode V - The Empire Strikes Back...</td>\n",
              "      <td>Action|Adventure|Drama|Sci-Fi|War</td>\n",
              "    </tr>\n",
              "    <tr>\n",
              "      <th>1198</th>\n",
              "      <td>Raiders of the Lost Ark (1981)</td>\n",
              "      <td>Action|Adventure</td>\n",
              "    </tr>\n",
              "    <tr>\n",
              "      <th>1201</th>\n",
              "      <td>Good, The Bad and The Ugly, The (1966)</td>\n",
              "      <td>Action|Western</td>\n",
              "    </tr>\n",
              "    <tr>\n",
              "      <th>1210</th>\n",
              "      <td>Star Wars: Episode VI - Return of the Jedi (1983)</td>\n",
              "      <td>Action|Adventure|Romance|Sci-Fi|War</td>\n",
              "    </tr>\n",
              "    <tr>\n",
              "      <th>1214</th>\n",
              "      <td>Alien (1979)</td>\n",
              "      <td>Action|Horror|Sci-Fi|Thriller</td>\n",
              "    </tr>\n",
              "    <tr>\n",
              "      <th>1240</th>\n",
              "      <td>Terminator, The (1984)</td>\n",
              "      <td>Action|Sci-Fi|Thriller</td>\n",
              "    </tr>\n",
              "    <tr>\n",
              "      <th>1387</th>\n",
              "      <td>Jaws (1975)</td>\n",
              "      <td>Action|Horror</td>\n",
              "    </tr>\n",
              "    <tr>\n",
              "      <th>1954</th>\n",
              "      <td>Rocky (1976)</td>\n",
              "      <td>Action|Drama</td>\n",
              "    </tr>\n",
              "    <tr>\n",
              "      <th>2028</th>\n",
              "      <td>Saving Private Ryan (1998)</td>\n",
              "      <td>Action|Drama|War</td>\n",
              "    </tr>\n",
              "    <tr>\n",
              "      <th>2366</th>\n",
              "      <td>King Kong (1933)</td>\n",
              "      <td>Action|Adventure|Horror</td>\n",
              "    </tr>\n",
              "    <tr>\n",
              "      <th>2692</th>\n",
              "      <td>Run Lola Run (Lola rennt) (1998)</td>\n",
              "      <td>Action|Crime|Romance</td>\n",
              "    </tr>\n",
              "    <tr>\n",
              "      <th>2947</th>\n",
              "      <td>Goldfinger (1964)</td>\n",
              "      <td>Action</td>\n",
              "    </tr>\n",
              "    <tr>\n",
              "      <th>2951</th>\n",
              "      <td>Fistful of Dollars, A (1964)</td>\n",
              "      <td>Action|Western</td>\n",
              "    </tr>\n",
              "    <tr>\n",
              "      <th>3418</th>\n",
              "      <td>Thelma &amp; Louise (1991)</td>\n",
              "      <td>Action|Drama</td>\n",
              "    </tr>\n",
              "    <tr>\n",
              "      <th>3468</th>\n",
              "      <td>Hustler, The (1961)</td>\n",
              "      <td>Drama</td>\n",
              "    </tr>\n",
              "    <tr>\n",
              "      <th>3527</th>\n",
              "      <td>Predator (1987)</td>\n",
              "      <td>Action|Sci-Fi|Thriller</td>\n",
              "    </tr>\n",
              "    <tr>\n",
              "      <th>3702</th>\n",
              "      <td>Mad Max (1979)</td>\n",
              "      <td>Action|Sci-Fi</td>\n",
              "    </tr>\n",
              "  </tbody>\n",
              "</table>\n",
              "</div>"
            ],
            "text/plain": [
              "                                                       name                             category\n",
              "movie_id                                                                                        \n",
              "260               Star Wars: Episode IV - A New Hope (1977)      Action|Adventure|Fantasy|Sci-Fi\n",
              "480                                    Jurassic Park (1993)              Action|Adventure|Sci-Fi\n",
              "1036                                        Die Hard (1988)                      Action|Thriller\n",
              "1097                      E.T. the Extra-Terrestrial (1982)      Children's|Drama|Fantasy|Sci-Fi\n",
              "1196      Star Wars: Episode V - The Empire Strikes Back...    Action|Adventure|Drama|Sci-Fi|War\n",
              "1198                         Raiders of the Lost Ark (1981)                     Action|Adventure\n",
              "1201                 Good, The Bad and The Ugly, The (1966)                       Action|Western\n",
              "1210      Star Wars: Episode VI - Return of the Jedi (1983)  Action|Adventure|Romance|Sci-Fi|War\n",
              "1214                                           Alien (1979)        Action|Horror|Sci-Fi|Thriller\n",
              "1240                                 Terminator, The (1984)               Action|Sci-Fi|Thriller\n",
              "1387                                            Jaws (1975)                        Action|Horror\n",
              "1954                                           Rocky (1976)                         Action|Drama\n",
              "2028                             Saving Private Ryan (1998)                     Action|Drama|War\n",
              "2366                                       King Kong (1933)              Action|Adventure|Horror\n",
              "2692                       Run Lola Run (Lola rennt) (1998)                 Action|Crime|Romance\n",
              "2947                                      Goldfinger (1964)                               Action\n",
              "2951                           Fistful of Dollars, A (1964)                       Action|Western\n",
              "3418                                 Thelma & Louise (1991)                         Action|Drama\n",
              "3468                                    Hustler, The (1961)                                Drama\n",
              "3527                                        Predator (1987)               Action|Sci-Fi|Thriller\n",
              "3702                                         Mad Max (1979)                        Action|Sci-Fi"
            ]
          },
          "metadata": {
            "tags": []
          },
          "execution_count": 157
        }
      ]
    },
    {
      "cell_type": "code",
      "metadata": {
        "id": "F7OGo7sZZHXz",
        "outputId": "46726ccc-649d-47c7-c284-bbeda51c710a",
        "colab": {
          "base_uri": "https://localhost:8080/",
          "height": 390
        }
      },
      "source": [
        "recs = bpr.get_recommends(user2idx[4], 10)\n",
        "recs = [idx2movie[rec] for rec in recs]\n",
        "movie_info.set_index('movie_id').loc[recs, :]"
      ],
      "execution_count": 158,
      "outputs": [
        {
          "output_type": "execute_result",
          "data": {
            "text/html": [
              "<div>\n",
              "<style scoped>\n",
              "    .dataframe tbody tr th:only-of-type {\n",
              "        vertical-align: middle;\n",
              "    }\n",
              "\n",
              "    .dataframe tbody tr th {\n",
              "        vertical-align: top;\n",
              "    }\n",
              "\n",
              "    .dataframe thead th {\n",
              "        text-align: right;\n",
              "    }\n",
              "</style>\n",
              "<table border=\"1\" class=\"dataframe\">\n",
              "  <thead>\n",
              "    <tr style=\"text-align: right;\">\n",
              "      <th></th>\n",
              "      <th>name</th>\n",
              "      <th>category</th>\n",
              "    </tr>\n",
              "    <tr>\n",
              "      <th>movie_id</th>\n",
              "      <th></th>\n",
              "      <th></th>\n",
              "    </tr>\n",
              "  </thead>\n",
              "  <tbody>\n",
              "    <tr>\n",
              "      <th>858</th>\n",
              "      <td>Godfather, The (1972)</td>\n",
              "      <td>Action|Crime|Drama</td>\n",
              "    </tr>\n",
              "    <tr>\n",
              "      <th>589</th>\n",
              "      <td>Terminator 2: Judgment Day (1991)</td>\n",
              "      <td>Action|Sci-Fi|Thriller</td>\n",
              "    </tr>\n",
              "    <tr>\n",
              "      <th>2571</th>\n",
              "      <td>Matrix, The (1999)</td>\n",
              "      <td>Action|Sci-Fi|Thriller</td>\n",
              "    </tr>\n",
              "    <tr>\n",
              "      <th>1270</th>\n",
              "      <td>Back to the Future (1985)</td>\n",
              "      <td>Comedy|Sci-Fi</td>\n",
              "    </tr>\n",
              "    <tr>\n",
              "      <th>2858</th>\n",
              "      <td>American Beauty (1999)</td>\n",
              "      <td>Comedy|Drama</td>\n",
              "    </tr>\n",
              "    <tr>\n",
              "      <th>541</th>\n",
              "      <td>Blade Runner (1982)</td>\n",
              "      <td>Film-Noir|Sci-Fi</td>\n",
              "    </tr>\n",
              "    <tr>\n",
              "      <th>110</th>\n",
              "      <td>Braveheart (1995)</td>\n",
              "      <td>Action|Drama|War</td>\n",
              "    </tr>\n",
              "    <tr>\n",
              "      <th>608</th>\n",
              "      <td>Fargo (1996)</td>\n",
              "      <td>Crime|Drama|Thriller</td>\n",
              "    </tr>\n",
              "    <tr>\n",
              "      <th>593</th>\n",
              "      <td>Silence of the Lambs, The (1991)</td>\n",
              "      <td>Drama|Thriller</td>\n",
              "    </tr>\n",
              "    <tr>\n",
              "      <th>1200</th>\n",
              "      <td>Aliens (1986)</td>\n",
              "      <td>Action|Sci-Fi|Thriller|War</td>\n",
              "    </tr>\n",
              "  </tbody>\n",
              "</table>\n",
              "</div>"
            ],
            "text/plain": [
              "                                       name                    category\n",
              "movie_id                                                               \n",
              "858                   Godfather, The (1972)          Action|Crime|Drama\n",
              "589       Terminator 2: Judgment Day (1991)      Action|Sci-Fi|Thriller\n",
              "2571                     Matrix, The (1999)      Action|Sci-Fi|Thriller\n",
              "1270              Back to the Future (1985)               Comedy|Sci-Fi\n",
              "2858                 American Beauty (1999)                Comedy|Drama\n",
              "541                     Blade Runner (1982)            Film-Noir|Sci-Fi\n",
              "110                       Braveheart (1995)            Action|Drama|War\n",
              "608                            Fargo (1996)        Crime|Drama|Thriller\n",
              "593        Silence of the Lambs, The (1991)              Drama|Thriller\n",
              "1200                          Aliens (1986)  Action|Sci-Fi|Thriller|War"
            ]
          },
          "metadata": {
            "tags": []
          },
          "execution_count": 158
        }
      ]
    },
    {
      "cell_type": "markdown",
      "metadata": {
        "id": "RnTIEfK4xv5S"
      },
      "source": [
        "# Задание 4. Не использую готовые решения, реализовать матричное разложение WARP на implicit данных"
      ]
    },
    {
      "cell_type": "code",
      "metadata": {
        "id": "rS_beWybxv5T"
      },
      "source": [
        "class WARP:\n",
        "    def __init__(self, \n",
        "                 n_users: int, \n",
        "                 n_items: int, \n",
        "                 latent_dim: int = 128, \n",
        "                 num_epochs: int = 100, \n",
        "                 neg_size: int = 5,\n",
        "                 eps: float = 0., \n",
        "                 check_loss_on = 1000,\n",
        "                 lr: float = 1e-2, \n",
        "                 reg: float = 1e-2,\n",
        "                 seed: int = 73):\n",
        "        \n",
        "        self.n_users = n_users\n",
        "        self.n_items = n_items\n",
        "        self.latent_dim = latent_dim\n",
        "        self.neg_size = neg_size\n",
        "        self.eps = eps\n",
        "        self.check_loss_on = check_loss_on\n",
        "        self.num_epochs = num_epochs\n",
        "        self.reg = reg\n",
        "        self.seed = seed\n",
        "        self.lr = lr\n",
        "        np.random.seed(seed)\n",
        "\n",
        "        self.U = np.random.uniform(low=0, high=1/np.sqrt(latent_dim), \n",
        "                              size=(n_users, latent_dim))\n",
        "        self.V = np.random.uniform(low=0, high=1/np.sqrt(latent_dim), \n",
        "                              size=(n_items, latent_dim))\n",
        "    \n",
        "    def check_loss(self):\n",
        "        #check loss\n",
        "        # We calculate loss on self.check_loss_on random user-item-neg_item triplets\n",
        "        rand_indexes2check = np.random.randint(self.X.nnz, \n",
        "                                               size=(self.check_loss_on, ))\n",
        "        nonzero_inds = self.X.nonzero()\n",
        "        nonzero_u = nonzero_inds[0][rand_indexes2check]\n",
        "        nonzero_i = nonzero_inds[1][rand_indexes2check]\n",
        "        L = 0\n",
        "        for user, item in zip(list(nonzero_u), list(nonzero_i)):\n",
        "            negative = np.random.choice(self.negative_items[user], \n",
        "                                        self.neg_size, replace=False)\n",
        "            for q, neg in enumerate(negative):\n",
        "                diff_V = self.V[item, :] - self.V[neg, :]\n",
        "                diff_pos_neg = self.U[user, :] @ diff_V\n",
        "\n",
        "                if 1 - diff_pos_neg <= 0:\n",
        "                    continue\n",
        "                    \n",
        "                L += np.log(len(self.negative_items[user]) / (q + 1))\n",
        "                break\n",
        "        L /= self.check_loss_on\n",
        "        #L = -L\n",
        "        print(f'Loss value: {L}')\n",
        "        return L\n",
        "\n",
        "\n",
        "    def fit(self, X: sp.csr.csr_matrix):\n",
        "        assert self.n_users, self.n_items == X.shape\n",
        "\n",
        "        self.X = X\n",
        "        cur_epoch = 0               \n",
        "        \n",
        "        self.positive_items = {}\n",
        "        self.negative_items = {}\n",
        "\n",
        "        for user in range(self.n_users):\n",
        "            rating = self.X.getrow(user)\n",
        "            self.positive_items[user] = rating.nonzero()[1]\n",
        "            self.negative_items[user] = np.array(list(\n",
        "                set(range(self.X.shape[1])) - set(self.positive_items[user])))\n",
        "        \n",
        "        L = self.check_loss()\n",
        "\n",
        "        \n",
        "        while cur_epoch < self.num_epochs and L > self.eps:\n",
        "            print(f'Epoch: {cur_epoch + 1}')\n",
        "\n",
        "            for i, user in enumerate(np.random.permutation(range(self.n_users))):\n",
        "                for item in np.random.permutation(self.positive_items[user]):\n",
        "\n",
        "                    negative = np.random.choice(self.negative_items[user], \n",
        "                                                self.neg_size, replace=False)\n",
        "\n",
        "                    for q, neg in enumerate(negative):\n",
        "\n",
        "                        diff_V = self.V[item, :] - self.V[neg, :]\n",
        "                        diff_pos_neg = self.U[user, :] @ diff_V\n",
        "\n",
        "                        if 1 - diff_pos_neg <= 0:\n",
        "                            continue\n",
        "\n",
        "                        coeff = np.log(len(self.negative_items[user]) / (q + 1))\n",
        "                        \n",
        "                        coeff_mult_U = coeff * self.U[user, :]\n",
        "\n",
        "                        self.V[neg, :] += self.lr * (-coeff_mult_U - \n",
        "                                                     self.reg * self.V[neg, :])\n",
        "                        self.V[item, :] += self.lr * (coeff_mult_U - \n",
        "                                                      self.reg * self.V[item, :])\n",
        "                        self.U[user, :] += self.lr * (coeff * diff_V - \n",
        "                                                      self.reg * self.U[user, :])\n",
        "                        break\n",
        "                                 \n",
        "                if not i % 1000:\n",
        "                    self.check_loss()\n",
        "           \n",
        "            cur_epoch += 1\n",
        "            L = self.check_loss()\n",
        "    \n",
        "        self.U_KDTree = KDTree(self.U)\n",
        "        self.V_KDTree = KDTree(self.V)\n",
        "        \n",
        "    def get_similars_items(self, item_ids: Union[int, list, np.ndarray], \n",
        "                           num_neighbors: int = 10):\n",
        "        if isinstance(item_ids, list) or isinstance(item_ids, np.ndarray):\n",
        "            return self.V_KDTree.query(self.V[item_ids, :], \n",
        "                                       k=num_neighbors, return_distance=False)   \n",
        "        return self.V_KDTree.query([self.V[item_ids, :]], \n",
        "                                   k=num_neighbors, return_distance=False)\n",
        "    \n",
        "    def get_similars_users(self, user_ids: Union[int, list, np.ndarray], \n",
        "                           num_neighbors: int = 10):\n",
        "        if isinstance(item_ids, list) or isinstance(item_ids, np.ndarray):\n",
        "            return self.U_KDTree.query(self.U[user_ids, :], k=num_neighbors, \n",
        "                                       return_distance=False)   \n",
        "        return self.U_KDTree.query([self.U[item_ids, :]], k=num_neighbors, \n",
        "                                   return_distance=False)\n",
        "    \n",
        "    def get_history(self, user_id: int):\n",
        "        return [it_id for it_id in self.X.getrow(user_id).nonzero()[1]]\n",
        "\n",
        "    def get_recommends(self, user_id: int, num_recs: int = 10):\n",
        "        rating = self.X.getrow(user_id)\n",
        "        \n",
        "        not_known_items = np.array(list(\n",
        "            set(range(self.X.shape[1])) - set(rating.nonzero()[1])))\n",
        "        score = self.U[user_id, :] @ self.V[not_known_items, :].T\n",
        "        order = np.argsort(score)\n",
        "        order = order[::-1]\n",
        "        return not_known_items[order[: num_recs]]\n",
        "\n",
        "\n"
      ],
      "execution_count": 145,
      "outputs": []
    },
    {
      "cell_type": "code",
      "metadata": {
        "id": "sqZFJa55PEt9"
      },
      "source": [
        "warp = WARP(n_users=user_item.shape[0], n_items=user_item.shape[1], num_epochs=5, eps=1e-1, latent_dim=64, neg_size=20, lr=1e-2, reg=1e-3)"
      ],
      "execution_count": 164,
      "outputs": []
    },
    {
      "cell_type": "code",
      "metadata": {
        "id": "23zKDOHKPjok",
        "outputId": "1c574ada-92e5-494e-ef6f-2ee76214fd84",
        "colab": {
          "base_uri": "https://localhost:8080/",
          "height": 799
        }
      },
      "source": [
        "warp.fit(user_item_csr)"
      ],
      "execution_count": 165,
      "outputs": [
        {
          "output_type": "stream",
          "text": [
            "Loss value: 8.095505238567386\n",
            "Epoch: 1\n",
            "Loss value: 8.102160605771589\n",
            "Loss value: 7.152108958920731\n",
            "Loss value: 6.3536152788026685\n",
            "Loss value: 5.560800937765715\n",
            "Loss value: 5.191724226324982\n",
            "Loss value: 4.907976092066809\n",
            "Loss value: 4.073299652931411\n",
            "Loss value: 4.090535153607938\n",
            "Epoch: 2\n",
            "Loss value: 4.085043574589238\n",
            "Loss value: 4.056012614192793\n",
            "Loss value: 3.9775527158429194\n",
            "Loss value: 3.7710103287815695\n",
            "Loss value: 3.9277136705363467\n",
            "Loss value: 3.7680880194394315\n",
            "Loss value: 3.651630647178534\n",
            "Loss value: 3.4781327688524226\n",
            "Epoch: 3\n",
            "Loss value: 3.6550861940503836\n",
            "Loss value: 3.5602648885637005\n",
            "Loss value: 3.3910673918248238\n",
            "Loss value: 3.523824146950036\n",
            "Loss value: 3.3892277621962004\n",
            "Loss value: 3.4060740517757755\n",
            "Loss value: 3.3510383182675834\n",
            "Loss value: 3.313588853232597\n",
            "Epoch: 4\n",
            "Loss value: 3.1461513333871376\n",
            "Loss value: 3.3926666277720616\n",
            "Loss value: 3.3740971457784155\n",
            "Loss value: 3.2711635716444496\n",
            "Loss value: 3.0589229883751643\n",
            "Loss value: 3.2420024338411673\n",
            "Loss value: 3.322765231333125\n",
            "Loss value: 3.166303770700218\n",
            "Epoch: 5\n",
            "Loss value: 3.419546202656002\n",
            "Loss value: 3.3485140535427225\n",
            "Loss value: 3.2595706331874834\n",
            "Loss value: 3.181165258233396\n",
            "Loss value: 3.2430119777388455\n",
            "Loss value: 3.1018397715588977\n",
            "Loss value: 3.2625346259761345\n",
            "Loss value: 3.140283555287649\n"
          ],
          "name": "stdout"
        }
      ]
    },
    {
      "cell_type": "code",
      "metadata": {
        "id": "Fz1ZsmKMPnqv",
        "outputId": "b0ef440f-ffd8-4ebb-9aab-34040e4d895d",
        "colab": {
          "base_uri": "https://localhost:8080/",
          "height": 390
        }
      },
      "source": [
        "similar_movies = warp.get_similars_items(movie2idx[1])[0]\n",
        "similar_movies = [idx2movie[idx] for idx in similar_movies]\n",
        "movie_info.set_index('movie_id').loc[similar_movies, :]"
      ],
      "execution_count": 169,
      "outputs": [
        {
          "output_type": "execute_result",
          "data": {
            "text/html": [
              "<div>\n",
              "<style scoped>\n",
              "    .dataframe tbody tr th:only-of-type {\n",
              "        vertical-align: middle;\n",
              "    }\n",
              "\n",
              "    .dataframe tbody tr th {\n",
              "        vertical-align: top;\n",
              "    }\n",
              "\n",
              "    .dataframe thead th {\n",
              "        text-align: right;\n",
              "    }\n",
              "</style>\n",
              "<table border=\"1\" class=\"dataframe\">\n",
              "  <thead>\n",
              "    <tr style=\"text-align: right;\">\n",
              "      <th></th>\n",
              "      <th>name</th>\n",
              "      <th>category</th>\n",
              "    </tr>\n",
              "    <tr>\n",
              "      <th>movie_id</th>\n",
              "      <th></th>\n",
              "      <th></th>\n",
              "    </tr>\n",
              "  </thead>\n",
              "  <tbody>\n",
              "    <tr>\n",
              "      <th>1</th>\n",
              "      <td>Toy Story (1995)</td>\n",
              "      <td>Animation|Children's|Comedy</td>\n",
              "    </tr>\n",
              "    <tr>\n",
              "      <th>3114</th>\n",
              "      <td>Toy Story 2 (1999)</td>\n",
              "      <td>Animation|Children's|Comedy</td>\n",
              "    </tr>\n",
              "    <tr>\n",
              "      <th>34</th>\n",
              "      <td>Babe (1995)</td>\n",
              "      <td>Children's|Comedy|Drama</td>\n",
              "    </tr>\n",
              "    <tr>\n",
              "      <th>296</th>\n",
              "      <td>Pulp Fiction (1994)</td>\n",
              "      <td>Crime|Drama</td>\n",
              "    </tr>\n",
              "    <tr>\n",
              "      <th>2081</th>\n",
              "      <td>Little Mermaid, The (1989)</td>\n",
              "      <td>Animation|Children's|Comedy|Musical|Romance</td>\n",
              "    </tr>\n",
              "    <tr>\n",
              "      <th>1394</th>\n",
              "      <td>Raising Arizona (1987)</td>\n",
              "      <td>Comedy</td>\n",
              "    </tr>\n",
              "    <tr>\n",
              "      <th>588</th>\n",
              "      <td>Aladdin (1992)</td>\n",
              "      <td>Animation|Children's|Comedy|Musical</td>\n",
              "    </tr>\n",
              "    <tr>\n",
              "      <th>1641</th>\n",
              "      <td>Full Monty, The (1997)</td>\n",
              "      <td>Comedy</td>\n",
              "    </tr>\n",
              "    <tr>\n",
              "      <th>1265</th>\n",
              "      <td>Groundhog Day (1993)</td>\n",
              "      <td>Comedy|Romance</td>\n",
              "    </tr>\n",
              "    <tr>\n",
              "      <th>527</th>\n",
              "      <td>Schindler's List (1993)</td>\n",
              "      <td>Drama|War</td>\n",
              "    </tr>\n",
              "  </tbody>\n",
              "</table>\n",
              "</div>"
            ],
            "text/plain": [
              "                                name                                     category\n",
              "movie_id                                                                         \n",
              "1                   Toy Story (1995)                  Animation|Children's|Comedy\n",
              "3114              Toy Story 2 (1999)                  Animation|Children's|Comedy\n",
              "34                       Babe (1995)                      Children's|Comedy|Drama\n",
              "296              Pulp Fiction (1994)                                  Crime|Drama\n",
              "2081      Little Mermaid, The (1989)  Animation|Children's|Comedy|Musical|Romance\n",
              "1394          Raising Arizona (1987)                                       Comedy\n",
              "588                   Aladdin (1992)          Animation|Children's|Comedy|Musical\n",
              "1641          Full Monty, The (1997)                                       Comedy\n",
              "1265            Groundhog Day (1993)                               Comedy|Romance\n",
              "527          Schindler's List (1993)                                    Drama|War"
            ]
          },
          "metadata": {
            "tags": []
          },
          "execution_count": 169
        }
      ]
    },
    {
      "cell_type": "code",
      "metadata": {
        "id": "Je0MTamibg2S",
        "outputId": "8c36d8b9-af67-4751-e5eb-06ab98557004",
        "colab": {
          "base_uri": "https://localhost:8080/",
          "height": 731
        }
      },
      "source": [
        "hist = warp.get_history(user2idx[4])\n",
        "hist = [idx2movie[movie] for movie in hist]\n",
        "movie_info.set_index('movie_id').loc[hist, :]"
      ],
      "execution_count": 170,
      "outputs": [
        {
          "output_type": "execute_result",
          "data": {
            "text/html": [
              "<div>\n",
              "<style scoped>\n",
              "    .dataframe tbody tr th:only-of-type {\n",
              "        vertical-align: middle;\n",
              "    }\n",
              "\n",
              "    .dataframe tbody tr th {\n",
              "        vertical-align: top;\n",
              "    }\n",
              "\n",
              "    .dataframe thead th {\n",
              "        text-align: right;\n",
              "    }\n",
              "</style>\n",
              "<table border=\"1\" class=\"dataframe\">\n",
              "  <thead>\n",
              "    <tr style=\"text-align: right;\">\n",
              "      <th></th>\n",
              "      <th>name</th>\n",
              "      <th>category</th>\n",
              "    </tr>\n",
              "    <tr>\n",
              "      <th>movie_id</th>\n",
              "      <th></th>\n",
              "      <th></th>\n",
              "    </tr>\n",
              "  </thead>\n",
              "  <tbody>\n",
              "    <tr>\n",
              "      <th>260</th>\n",
              "      <td>Star Wars: Episode IV - A New Hope (1977)</td>\n",
              "      <td>Action|Adventure|Fantasy|Sci-Fi</td>\n",
              "    </tr>\n",
              "    <tr>\n",
              "      <th>480</th>\n",
              "      <td>Jurassic Park (1993)</td>\n",
              "      <td>Action|Adventure|Sci-Fi</td>\n",
              "    </tr>\n",
              "    <tr>\n",
              "      <th>1036</th>\n",
              "      <td>Die Hard (1988)</td>\n",
              "      <td>Action|Thriller</td>\n",
              "    </tr>\n",
              "    <tr>\n",
              "      <th>1097</th>\n",
              "      <td>E.T. the Extra-Terrestrial (1982)</td>\n",
              "      <td>Children's|Drama|Fantasy|Sci-Fi</td>\n",
              "    </tr>\n",
              "    <tr>\n",
              "      <th>1196</th>\n",
              "      <td>Star Wars: Episode V - The Empire Strikes Back...</td>\n",
              "      <td>Action|Adventure|Drama|Sci-Fi|War</td>\n",
              "    </tr>\n",
              "    <tr>\n",
              "      <th>1198</th>\n",
              "      <td>Raiders of the Lost Ark (1981)</td>\n",
              "      <td>Action|Adventure</td>\n",
              "    </tr>\n",
              "    <tr>\n",
              "      <th>1201</th>\n",
              "      <td>Good, The Bad and The Ugly, The (1966)</td>\n",
              "      <td>Action|Western</td>\n",
              "    </tr>\n",
              "    <tr>\n",
              "      <th>1210</th>\n",
              "      <td>Star Wars: Episode VI - Return of the Jedi (1983)</td>\n",
              "      <td>Action|Adventure|Romance|Sci-Fi|War</td>\n",
              "    </tr>\n",
              "    <tr>\n",
              "      <th>1214</th>\n",
              "      <td>Alien (1979)</td>\n",
              "      <td>Action|Horror|Sci-Fi|Thriller</td>\n",
              "    </tr>\n",
              "    <tr>\n",
              "      <th>1240</th>\n",
              "      <td>Terminator, The (1984)</td>\n",
              "      <td>Action|Sci-Fi|Thriller</td>\n",
              "    </tr>\n",
              "    <tr>\n",
              "      <th>1387</th>\n",
              "      <td>Jaws (1975)</td>\n",
              "      <td>Action|Horror</td>\n",
              "    </tr>\n",
              "    <tr>\n",
              "      <th>1954</th>\n",
              "      <td>Rocky (1976)</td>\n",
              "      <td>Action|Drama</td>\n",
              "    </tr>\n",
              "    <tr>\n",
              "      <th>2028</th>\n",
              "      <td>Saving Private Ryan (1998)</td>\n",
              "      <td>Action|Drama|War</td>\n",
              "    </tr>\n",
              "    <tr>\n",
              "      <th>2366</th>\n",
              "      <td>King Kong (1933)</td>\n",
              "      <td>Action|Adventure|Horror</td>\n",
              "    </tr>\n",
              "    <tr>\n",
              "      <th>2692</th>\n",
              "      <td>Run Lola Run (Lola rennt) (1998)</td>\n",
              "      <td>Action|Crime|Romance</td>\n",
              "    </tr>\n",
              "    <tr>\n",
              "      <th>2947</th>\n",
              "      <td>Goldfinger (1964)</td>\n",
              "      <td>Action</td>\n",
              "    </tr>\n",
              "    <tr>\n",
              "      <th>2951</th>\n",
              "      <td>Fistful of Dollars, A (1964)</td>\n",
              "      <td>Action|Western</td>\n",
              "    </tr>\n",
              "    <tr>\n",
              "      <th>3418</th>\n",
              "      <td>Thelma &amp; Louise (1991)</td>\n",
              "      <td>Action|Drama</td>\n",
              "    </tr>\n",
              "    <tr>\n",
              "      <th>3468</th>\n",
              "      <td>Hustler, The (1961)</td>\n",
              "      <td>Drama</td>\n",
              "    </tr>\n",
              "    <tr>\n",
              "      <th>3527</th>\n",
              "      <td>Predator (1987)</td>\n",
              "      <td>Action|Sci-Fi|Thriller</td>\n",
              "    </tr>\n",
              "    <tr>\n",
              "      <th>3702</th>\n",
              "      <td>Mad Max (1979)</td>\n",
              "      <td>Action|Sci-Fi</td>\n",
              "    </tr>\n",
              "  </tbody>\n",
              "</table>\n",
              "</div>"
            ],
            "text/plain": [
              "                                                       name                             category\n",
              "movie_id                                                                                        \n",
              "260               Star Wars: Episode IV - A New Hope (1977)      Action|Adventure|Fantasy|Sci-Fi\n",
              "480                                    Jurassic Park (1993)              Action|Adventure|Sci-Fi\n",
              "1036                                        Die Hard (1988)                      Action|Thriller\n",
              "1097                      E.T. the Extra-Terrestrial (1982)      Children's|Drama|Fantasy|Sci-Fi\n",
              "1196      Star Wars: Episode V - The Empire Strikes Back...    Action|Adventure|Drama|Sci-Fi|War\n",
              "1198                         Raiders of the Lost Ark (1981)                     Action|Adventure\n",
              "1201                 Good, The Bad and The Ugly, The (1966)                       Action|Western\n",
              "1210      Star Wars: Episode VI - Return of the Jedi (1983)  Action|Adventure|Romance|Sci-Fi|War\n",
              "1214                                           Alien (1979)        Action|Horror|Sci-Fi|Thriller\n",
              "1240                                 Terminator, The (1984)               Action|Sci-Fi|Thriller\n",
              "1387                                            Jaws (1975)                        Action|Horror\n",
              "1954                                           Rocky (1976)                         Action|Drama\n",
              "2028                             Saving Private Ryan (1998)                     Action|Drama|War\n",
              "2366                                       King Kong (1933)              Action|Adventure|Horror\n",
              "2692                       Run Lola Run (Lola rennt) (1998)                 Action|Crime|Romance\n",
              "2947                                      Goldfinger (1964)                               Action\n",
              "2951                           Fistful of Dollars, A (1964)                       Action|Western\n",
              "3418                                 Thelma & Louise (1991)                         Action|Drama\n",
              "3468                                    Hustler, The (1961)                                Drama\n",
              "3527                                        Predator (1987)               Action|Sci-Fi|Thriller\n",
              "3702                                         Mad Max (1979)                        Action|Sci-Fi"
            ]
          },
          "metadata": {
            "tags": []
          },
          "execution_count": 170
        }
      ]
    },
    {
      "cell_type": "code",
      "metadata": {
        "id": "uJEvFHK_brIW",
        "outputId": "fd4a26cd-f74c-4e32-eedd-90b0086c350c",
        "colab": {
          "base_uri": "https://localhost:8080/",
          "height": 390
        }
      },
      "source": [
        "recs = warp.get_recommends(user2idx[4], 10)\n",
        "recs = [idx2movie[rec] for rec in recs]\n",
        "movie_info.set_index('movie_id').loc[recs, :]"
      ],
      "execution_count": 171,
      "outputs": [
        {
          "output_type": "execute_result",
          "data": {
            "text/html": [
              "<div>\n",
              "<style scoped>\n",
              "    .dataframe tbody tr th:only-of-type {\n",
              "        vertical-align: middle;\n",
              "    }\n",
              "\n",
              "    .dataframe tbody tr th {\n",
              "        vertical-align: top;\n",
              "    }\n",
              "\n",
              "    .dataframe thead th {\n",
              "        text-align: right;\n",
              "    }\n",
              "</style>\n",
              "<table border=\"1\" class=\"dataframe\">\n",
              "  <thead>\n",
              "    <tr style=\"text-align: right;\">\n",
              "      <th></th>\n",
              "      <th>name</th>\n",
              "      <th>category</th>\n",
              "    </tr>\n",
              "    <tr>\n",
              "      <th>movie_id</th>\n",
              "      <th></th>\n",
              "      <th></th>\n",
              "    </tr>\n",
              "  </thead>\n",
              "  <tbody>\n",
              "    <tr>\n",
              "      <th>589</th>\n",
              "      <td>Terminator 2: Judgment Day (1991)</td>\n",
              "      <td>Action|Sci-Fi|Thriller</td>\n",
              "    </tr>\n",
              "    <tr>\n",
              "      <th>2571</th>\n",
              "      <td>Matrix, The (1999)</td>\n",
              "      <td>Action|Sci-Fi|Thriller</td>\n",
              "    </tr>\n",
              "    <tr>\n",
              "      <th>1200</th>\n",
              "      <td>Aliens (1986)</td>\n",
              "      <td>Action|Sci-Fi|Thriller|War</td>\n",
              "    </tr>\n",
              "    <tr>\n",
              "      <th>1580</th>\n",
              "      <td>Men in Black (1997)</td>\n",
              "      <td>Action|Adventure|Comedy|Sci-Fi</td>\n",
              "    </tr>\n",
              "    <tr>\n",
              "      <th>2916</th>\n",
              "      <td>Total Recall (1990)</td>\n",
              "      <td>Action|Adventure|Sci-Fi|Thriller</td>\n",
              "    </tr>\n",
              "    <tr>\n",
              "      <th>1291</th>\n",
              "      <td>Indiana Jones and the Last Crusade (1989)</td>\n",
              "      <td>Action|Adventure</td>\n",
              "    </tr>\n",
              "    <tr>\n",
              "      <th>110</th>\n",
              "      <td>Braveheart (1995)</td>\n",
              "      <td>Action|Drama|War</td>\n",
              "    </tr>\n",
              "    <tr>\n",
              "      <th>858</th>\n",
              "      <td>Godfather, The (1972)</td>\n",
              "      <td>Action|Crime|Drama</td>\n",
              "    </tr>\n",
              "    <tr>\n",
              "      <th>2858</th>\n",
              "      <td>American Beauty (1999)</td>\n",
              "      <td>Comedy|Drama</td>\n",
              "    </tr>\n",
              "    <tr>\n",
              "      <th>1204</th>\n",
              "      <td>Lawrence of Arabia (1962)</td>\n",
              "      <td>Adventure|War</td>\n",
              "    </tr>\n",
              "  </tbody>\n",
              "</table>\n",
              "</div>"
            ],
            "text/plain": [
              "                                               name                          category\n",
              "movie_id                                                                             \n",
              "589               Terminator 2: Judgment Day (1991)            Action|Sci-Fi|Thriller\n",
              "2571                             Matrix, The (1999)            Action|Sci-Fi|Thriller\n",
              "1200                                  Aliens (1986)        Action|Sci-Fi|Thriller|War\n",
              "1580                            Men in Black (1997)    Action|Adventure|Comedy|Sci-Fi\n",
              "2916                            Total Recall (1990)  Action|Adventure|Sci-Fi|Thriller\n",
              "1291      Indiana Jones and the Last Crusade (1989)                  Action|Adventure\n",
              "110                               Braveheart (1995)                  Action|Drama|War\n",
              "858                           Godfather, The (1972)                Action|Crime|Drama\n",
              "2858                         American Beauty (1999)                      Comedy|Drama\n",
              "1204                      Lawrence of Arabia (1962)                     Adventure|War"
            ]
          },
          "metadata": {
            "tags": []
          },
          "execution_count": 171
        }
      ]
    },
    {
      "cell_type": "code",
      "metadata": {
        "id": "uiZY0fA4buQH"
      },
      "source": [
        ""
      ],
      "execution_count": 150,
      "outputs": []
    }
  ]
}